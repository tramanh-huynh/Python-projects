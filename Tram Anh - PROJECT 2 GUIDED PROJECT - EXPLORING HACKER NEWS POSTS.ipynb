{
 "cells": [
  {
   "cell_type": "markdown",
   "id": "a543b7f9",
   "metadata": {},
   "source": [
    "## PROJECT 2: GUIDED PROJECT - EXPLORING HACKER NEWS POSTS\n",
    "Target:\n",
    "- Do Ask HN or Show HN receive more comments on average?\n",
    "- Do posts created at a certain time receive more comments on average?\n",
    "\n",
    "Source:  https://www.kaggle.com/hacker-news/hacker-news-posts\n",
    "\n",
    "### I. Openning and exploring data:"
   ]
  },
  {
   "cell_type": "code",
   "execution_count": 1,
   "id": "3da0cd96",
   "metadata": {},
   "outputs": [],
   "source": [
    "from csv import reader\n",
    "openned_file = open('hacker_news.csv',encoding='utf8')\n",
    "read_file = reader(openned_file)\n",
    "hn = list(read_file)\n",
    "hn_header = hn[0]\n",
    "hn = hn[1:]\n"
   ]
  },
  {
   "cell_type": "code",
   "execution_count": 2,
   "id": "389868dc",
   "metadata": {},
   "outputs": [
    {
     "name": "stdout",
     "output_type": "stream",
     "text": [
      "['id', 'title', 'url', 'num_points', 'num_comments', 'author', 'created_at']\n",
      "\n",
      "\n",
      "['12579008', 'You have two days to comment if you want stem cells to be classified as your own', 'http://www.regulations.gov/document?D=FDA-2015-D-3719-0018', '1', '0', 'altstar', '9/26/2016 3:26']\n",
      "Number of rows: 293119\n",
      "Number of column: 7\n",
      "['12579005', 'SQLAR  the SQLite Archiver', 'https://www.sqlite.org/sqlar/doc/trunk/README.md', '1', '0', 'blacksqr', '9/26/2016 3:24']\n",
      "Number of rows: 293119\n",
      "Number of column: 7\n",
      "['12578997', 'What if we just printed a flatscreen television on the side of our boxes?', 'https://medium.com/vanmoof/our-secrets-out-f21c1f03fdc8#.ietxmez43', '1', '0', 'pavel_lishin', '9/26/2016 3:19']\n",
      "Number of rows: 293119\n",
      "Number of column: 7\n"
     ]
    }
   ],
   "source": [
    "def explore(a_list,start,end):\n",
    "    data_slice = a_list[start:end]\n",
    "    for row in data_slice:\n",
    "        print(row)\n",
    "        print(\"Number of rows:\", len(a_list))\n",
    "        print(\"Number of column:\", len(a_list[0]))\n",
    "\n",
    "print(hn_header)\n",
    "print('\\n')\n",
    "explore(hn,0,3)"
   ]
  },
  {
   "cell_type": "markdown",
   "id": "c991a85f",
   "metadata": {},
   "source": [
    "### II. Cleanning data:"
   ]
  },
  {
   "cell_type": "code",
   "execution_count": 4,
   "id": "6ed9751c",
   "metadata": {},
   "outputs": [
    {
     "name": "stdout",
     "output_type": "stream",
     "text": [
      "['12578908', 'Ask HN: What TLD do you use for local development?', '', '4', '7', 'Sevrene', '9/26/2016 2:53']\n",
      "Number of rows: 9139\n",
      "Number of column: 7\n",
      "['12578335', 'Show HN: Finding puns computationally', 'http://puns.samueltaylor.org/', '2', '0', 'saamm', '9/26/2016 0:36']\n",
      "Number of rows: 10158\n",
      "Number of column: 7\n",
      "['12579008', 'You have two days to comment if you want stem cells to be classified as your own', 'http://www.regulations.gov/document?D=FDA-2015-D-3719-0018', '1', '0', 'altstar', '9/26/2016 3:26']\n",
      "Number of rows: 282961\n",
      "Number of column: 7\n"
     ]
    }
   ],
   "source": [
    "ask = []\n",
    "show = []\n",
    "other = []\n",
    "for row in hn:\n",
    "    title = row[1]\n",
    "    if title.lower().startswith(\"ask hn\"):\n",
    "        ask.append(row)\n",
    "    if title.lower().startswith(\"show hn\"):\n",
    "        show.append(row)\n",
    "    else:\n",
    "        other.append(row)\n",
    "\n",
    "explore(ask,0,1)\n",
    "explore(show,0,1)\n",
    "explore(other,0,1)"
   ]
  },
  {
   "cell_type": "markdown",
   "id": "43206233",
   "metadata": {},
   "source": [
    "### II. Data analysis:\n",
    "Caculate the average number of comments"
   ]
  },
  {
   "cell_type": "code",
   "execution_count": 6,
   "id": "4a9f6e4c",
   "metadata": {},
   "outputs": [
    {
     "name": "stdout",
     "output_type": "stream",
     "text": [
      "['id', 'title', 'url', 'num_points', 'num_comments', 'author', 'created_at']\n"
     ]
    }
   ],
   "source": [
    "print(hn_header)"
   ]
  },
  {
   "cell_type": "code",
   "execution_count": 7,
   "id": "f6e30b23",
   "metadata": {},
   "outputs": [
    {
     "name": "stdout",
     "output_type": "stream",
     "text": [
      "The avarage number of comments on ask post: 10.393478498741656\n",
      "The avarage number of comments on show post: 4.886099625910612\n",
      "The avarage number of comments on other post: 6.584398556691558\n"
     ]
    }
   ],
   "source": [
    "total_ask_comments = 0\n",
    "for row in ask:\n",
    "    num_comments = int(row[4])\n",
    "    total_ask_comments += num_comments\n",
    "avg_ask_comments = total_ask_comments/len(ask)\n",
    "\n",
    "total_show_comments = 0\n",
    "for row in show:\n",
    "    num_comments = int(row[4])\n",
    "    total_show_comments += num_comments\n",
    "avg_show_comments = total_show_comments/len(show)\n",
    "\n",
    "total_other_comments = 0\n",
    "for row in other:\n",
    "    num_comments = int(row[4])\n",
    "    total_other_comments += num_comments\n",
    "avg_other_comments = total_other_comments/len(other)\n",
    "\n",
    "print(\"The avarage number of comments on ask post:\",avg_ask_comments)\n",
    "print(\"The avarage number of comments on show post:\",avg_show_comments)\n",
    "print(\"The avarage number of comments on other post:\",avg_other_comments)\n",
    "\n"
   ]
  },
  {
   "cell_type": "markdown",
   "id": "cd684194",
   "metadata": {},
   "source": [
    "We can see that ask post receive on average about 2 times more comments than show posts. "
   ]
  },
  {
   "cell_type": "code",
   "execution_count": 9,
   "id": "b54c0582",
   "metadata": {},
   "outputs": [
    {
     "name": "stdout",
     "output_type": "stream",
     "text": [
      "['9/26/2016 2:53', '7']\n",
      "Number of rows: 9139\n",
      "Number of column: 2\n",
      "['9/26/2016 1:17', '3']\n",
      "Number of rows: 9139\n",
      "Number of column: 2\n"
     ]
    }
   ],
   "source": [
    "ask_list = []\n",
    "for row in ask:\n",
    "    created = row[-1]\n",
    "    num_comments = row[4]\n",
    "    ask_list.append([created,num_comments])\n",
    "\n",
    "explore(ask_list,0,2)"
   ]
  },
  {
   "cell_type": "code",
   "execution_count": 13,
   "id": "7952dd38",
   "metadata": {},
   "outputs": [
    {
     "name": "stdout",
     "output_type": "stream",
     "text": [
      "{'02': 269, '01': 282, '22': 383, '21': 518, '19': 552, '17': 587, '15': 646, '14': 513, '13': 444, '11': 312, '10': 282, '09': 222, '07': 226, '03': 271, '23': 343, '20': 510, '16': 579, '08': 257, '00': 301, '18': 614, '12': 342, '04': 243, '06': 234, '05': 209}\n",
      "\n",
      "\n",
      "{'02': 2996, '01': 2089, '22': 3372, '21': 4500, '19': 3954, '17': 5547, '15': 18525, '14': 4972, '13': 7245, '11': 2797, '10': 3013, '09': 1477, '07': 1585, '03': 2154, '23': 2297, '20': 4462, '16': 4466, '08': 2362, '00': 2277, '18': 4877, '12': 4234, '04': 2360, '06': 1587, '05': 1838}\n"
     ]
    }
   ],
   "source": [
    "import datetime as dt\n",
    "counts_by_hour = {}\n",
    "comments_by_hour = {}\n",
    "for row in ask_list:\n",
    "    date = row[0]\n",
    "    num_comments = int(row[1])\n",
    "    date_dt = dt.datetime.strptime(date,'%m/%d/%Y %H:%M')\n",
    "    hour_str = dt.datetime.strftime(date_dt,'%H')\n",
    "    if hour_str not in counts_by_hour:\n",
    "        counts_by_hour[hour_str] = 1\n",
    "        comments_by_hour[hour_str] = num_comments\n",
    "    else:\n",
    "        counts_by_hour[hour_str] += 1\n",
    "        comments_by_hour[hour_str] += num_comments\n",
    "        \n",
    "print(counts_by_hour)\n",
    "print('\\n')\n",
    "print(comments_by_hour)"
   ]
  },
  {
   "cell_type": "code",
   "execution_count": 16,
   "id": "4a4e10a2",
   "metadata": {},
   "outputs": [
    {
     "name": "stdout",
     "output_type": "stream",
     "text": [
      "[[11.137546468401487, '02'], [7.407801418439717, '01'], [8.804177545691905, '22'], [8.687258687258687, '21'], [7.163043478260869, '19'], [9.449744463373083, '17'], [28.676470588235293, '15'], [9.692007797270955, '14'], [16.31756756756757, '13'], [8.96474358974359, '11'], [10.684397163120567, '10'], [6.653153153153153, '09'], [7.013274336283186, '07'], [7.948339483394834, '03'], [6.696793002915452, '23'], [8.749019607843136, '20'], [7.713298791018998, '16'], [9.190661478599221, '08'], [7.5647840531561465, '00'], [7.94299674267101, '18'], [12.380116959064328, '12'], [9.7119341563786, '04'], [6.782051282051282, '06'], [8.794258373205741, '05']]\n"
     ]
    }
   ],
   "source": [
    "avg_ask_hour = []\n",
    "for hour in comments_by_hour:\n",
    "    avg_comments = comments_by_hour[hour]/counts_by_hour[hour]\n",
    "    avg_ask_hour.append([avg_comments,hour])\n",
    "print(avg_ask_hour)"
   ]
  },
  {
   "cell_type": "code",
   "execution_count": 26,
   "id": "85bbd06e",
   "metadata": {},
   "outputs": [],
   "source": [
    "def list_sorted(a_list,name):\n",
    "    listsorted = sorted(a_list, reverse = True)\n",
    "    for row in listsorted[:5]:\n",
    "        hour = row[1]\n",
    "        avg_comment = row[0]\n",
    "        print(\"{}:00 :{:.2f} average {} per post\".format(hour,avg_comment,name))"
   ]
  },
  {
   "cell_type": "code",
   "execution_count": 27,
   "id": "370d835e",
   "metadata": {},
   "outputs": [
    {
     "name": "stdout",
     "output_type": "stream",
     "text": [
      "15:00 :28.68 average comments per post\n",
      "13:00 :16.32 average comments per post\n",
      "12:00 :12.38 average comments per post\n",
      "02:00 :11.14 average comments per post\n",
      "10:00 :10.68 average comments per post\n"
     ]
    }
   ],
   "source": [
    "list_sorted(avg_ask_hour, 'comments')"
   ]
  },
  {
   "cell_type": "code",
   "execution_count": 28,
   "id": "6fe9b861",
   "metadata": {},
   "outputs": [
    {
     "name": "stdout",
     "output_type": "stream",
     "text": [
      "['9/26/2016 0:36', 2]\n",
      "Number of rows: 10158\n",
      "Number of column: 2\n"
     ]
    }
   ],
   "source": [
    "show_list = []\n",
    "for row in show:\n",
    "    created = row[-1]\n",
    "    points = int(row[3])\n",
    "    show_list.append([created,points])\n",
    "explore(show_list,0,1)\n",
    "    "
   ]
  },
  {
   "cell_type": "code",
   "execution_count": 32,
   "id": "63d220d9",
   "metadata": {},
   "outputs": [],
   "source": [
    "counts_show = {}\n",
    "points_hour = {}\n",
    "for row in show_list:\n",
    "    date = row[0]\n",
    "    num_point = int(row[1])\n",
    "    date_dt = dt.datetime.strptime(date,'%m/%d/%Y %H:%M')\n",
    "    hour_str = dt.datetime.strftime(date_dt,'%H')\n",
    "    if hour_str not in counts_show:\n",
    "        counts_show[hour_str] = 1\n",
    "        points_hour[hour_str] = num_point\n",
    "    else:\n",
    "        counts_show[hour_str] += 1\n",
    "        points_hour[hour_str] += num_point\n",
    "\n"
   ]
  },
  {
   "cell_type": "code",
   "execution_count": 35,
   "id": "64d485d2",
   "metadata": {},
   "outputs": [
    {
     "name": "stdout",
     "output_type": "stream",
     "text": [
      "[[15.547101449275363, '00'], [15.862068965517242, '23'], [13.234285714285715, '20'], [16.057553956834532, '19'], [15.144817073170731, '18'], [14.340823970037453, '16'], [15.09051724137931, '14'], [13.321981424148607, '10'], [12.456953642384105, '09'], [14.683544303797468, '08'], [15.994791666666666, '06'], [10.524271844660195, '03'], [13.930232558139535, '21'], [13.88042049934297, '17'], [13.94377990430622, '15'], [19.258706467661693, '11'], [13.995762711864407, '07'], [13.95360824742268, '04'], [17.018032786885247, '13'], [20.905038759689923, '12'], [11.866396761133604, '01'], [13.331564986737401, '22'], [13.224880382775119, '02'], [10.662790697674419, '05']]\n"
     ]
    }
   ],
   "source": [
    "avg_show_hour = []\n",
    "for hour in counts_show:\n",
    "    avg_comments = points_hour[hour]/counts_show[hour]\n",
    "    avg_show_hour.append([avg_comments,hour])\n",
    "print(avg_show_hour)"
   ]
  },
  {
   "cell_type": "code",
   "execution_count": 36,
   "id": "00c9a1ad",
   "metadata": {},
   "outputs": [
    {
     "name": "stdout",
     "output_type": "stream",
     "text": [
      "12:00 :20.91 average point per post\n",
      "11:00 :19.26 average point per post\n",
      "13:00 :17.02 average point per post\n",
      "19:00 :16.06 average point per post\n",
      "06:00 :15.99 average point per post\n"
     ]
    }
   ],
   "source": [
    "list_sorted(avg_show_hour, 'point')"
   ]
  },
  {
   "cell_type": "markdown",
   "id": "704c78d8",
   "metadata": {},
   "source": [
    "###  Conclusion: \n",
    "- Ask post receive on average about 2 times more comments than show posts\n",
    "- We should submit in between 13:00 and 16:00 for ask posts, and between 11:00 and 13:00 for show posts"
   ]
  }
 ],
 "metadata": {
  "kernelspec": {
   "display_name": "Python 3",
   "language": "python",
   "name": "python3"
  },
  "language_info": {
   "codemirror_mode": {
    "name": "ipython",
    "version": 3
   },
   "file_extension": ".py",
   "mimetype": "text/x-python",
   "name": "python",
   "nbconvert_exporter": "python",
   "pygments_lexer": "ipython3",
   "version": "3.8.8"
  }
 },
 "nbformat": 4,
 "nbformat_minor": 5
}
