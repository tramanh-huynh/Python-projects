{
 "cells": [
  {
   "cell_type": "markdown",
   "id": "9345998f",
   "metadata": {},
   "source": [
    "# PROJECT 1: PROFITABLE APP PROFILES FOR THE APP STORE AND GOOGLE PLAY MARKETS\n",
    "Target: help our developers understand what type of apps are likely to attract more users on Google Play and the Apple Store\n",
    "Source:\n",
    "\n",
    "https://dq-content.s3.amazonaws.com/350/AppleStore.csv\n",
    "        \n",
    "https://dq-content.s3.amazonaws.com/350/googleplaystore.csv\n",
    "\n",
    "## I.Openning and exploring the data:"
   ]
  },
  {
   "cell_type": "markdown",
   "id": "93adf39e",
   "metadata": {},
   "source": [
    "apple_store_header = apple_store[0]\n",
    "\n",
    "apple_store = apple_store[1:]"
   ]
  },
  {
   "cell_type": "code",
   "execution_count": 1,
   "id": "c1e41ec1",
   "metadata": {},
   "outputs": [],
   "source": [
    "from csv import reader\n",
    "\n",
    "opened_file = open('AppleStore.csv',encoding='UTF-8')\n",
    "read_file = reader(opened_file)\n",
    "apple_store = list(read_file)\n",
    "apple_store_header = apple_store[0]\n",
    "apple_store = apple_store[1:]\n",
    "\n",
    "opened_file = open('googleplaystore.csv',encoding='UTF-8')\n",
    "read_file = reader(opened_file)\n",
    "google_play = list(read_file)\n",
    "google_play_header = google_play[0]\n",
    "google_play = google_play[1:]"
   ]
  },
  {
   "cell_type": "markdown",
   "id": "cfc8bacb",
   "metadata": {},
   "source": [
    "Explore data."
   ]
  },
  {
   "cell_type": "code",
   "execution_count": 2,
   "id": "3d2ab8ab",
   "metadata": {
    "scrolled": true
   },
   "outputs": [
    {
     "name": "stdout",
     "output_type": "stream",
     "text": [
      "['id', 'track_name', 'size_bytes', 'currency', 'price', 'rating_count_tot', 'rating_count_ver', 'user_rating', 'user_rating_ver', 'ver', 'cont_rating', 'prime_genre', 'sup_devices.num', 'ipadSc_urls.num', 'lang.num', 'vpp_lic']\n",
      "\n",
      "\n",
      "['429047995', 'Pinterest', '74778624', 'USD', '0.0', '1061624', '1814', '4.5', '4.0', '6.26', '12+', 'Social Networking', '37', '5', '27', '1']\n",
      "\n",
      "\n",
      "Number of row:  7197\n",
      "Number of column:  16\n",
      "['282935706', 'Bible', '92774400', 'USD', '0.0', '985920', '5320', '4.5', '5.0', '7.5.1', '4+', 'Reference', '37', '5', '45', '1']\n",
      "\n",
      "\n",
      "Number of row:  7197\n",
      "Number of column:  16\n",
      "['553834731', 'Candy Crush Saga', '222846976', 'USD', '0.0', '961794', '2453', '4.5', '4.5', '1.101.0', '4+', 'Games', '43', '5', '24', '1']\n",
      "\n",
      "\n",
      "Number of row:  7197\n",
      "Number of column:  16\n"
     ]
    }
   ],
   "source": [
    "def explore_data(a_list, start, end):\n",
    "    dataset_slice = a_list[start:end]\n",
    "    for row in dataset_slice:\n",
    "        print(row)\n",
    "        print('\\n') #add new line\n",
    "        print('Number of row: ',len(a_list))\n",
    "        print('Number of column: ', len(a_list[0]))\n",
    "        \n",
    "print(apple_store_header)\n",
    "print('\\n')\n",
    "explore_data(a_list = apple_store, start = 5, end = 8)"
   ]
  },
  {
   "cell_type": "markdown",
   "id": "242c345d",
   "metadata": {},
   "source": [
    "Conclusion: I think 'track_name','price', 'rating_count_tot','cont_rating', 'prime_genre' are useful to analyse data. Let's check Goolge Play Store"
   ]
  },
  {
   "cell_type": "code",
   "execution_count": 7,
   "id": "bf1fd696",
   "metadata": {},
   "outputs": [
    {
     "name": "stdout",
     "output_type": "stream",
     "text": [
      "['App', 'Category', 'Rating', 'Reviews', 'Size', 'Installs', 'Type', 'Price', 'Content Rating', 'Genres', 'Last Updated', 'Current Ver', 'Android Ver']\n",
      "\n",
      "\n",
      "['Paper flowers instructions', 'ART_AND_DESIGN', '4.4', '167', '5.6M', '50,000+', 'Free', '0', 'Everyone', 'Art & Design', 'March 26, 2017', '1.0', '2.3 and up']\n",
      "\n",
      "\n",
      "Number of row:  10840\n",
      "Number of column:  13\n",
      "['Smoke Effect Photo Maker - Smoke Editor', 'ART_AND_DESIGN', '3.8', '178', '19M', '50,000+', 'Free', '0', 'Everyone', 'Art & Design', 'April 26, 2018', '1.1', '4.0.3 and up']\n",
      "\n",
      "\n",
      "Number of row:  10840\n",
      "Number of column:  13\n",
      "['Infinite Painter', 'ART_AND_DESIGN', '4.1', '36815', '29M', '1,000,000+', 'Free', '0', 'Everyone', 'Art & Design', 'June 14, 2018', '6.1.61.1', '4.2 and up']\n",
      "\n",
      "\n",
      "Number of row:  10840\n",
      "Number of column:  13\n"
     ]
    }
   ],
   "source": [
    "print(google_play_header)\n",
    "print('\\n')\n",
    "explore_data(a_list = google_play, start = 5, end = 8)"
   ]
  },
  {
   "cell_type": "markdown",
   "id": "b2cc4ce4",
   "metadata": {},
   "source": [
    "Conclusion: I think 'App', 'Category', 'Rating', 'Installs', 'Price', 'Content Rating', 'Genres' are useful to analyse data."
   ]
  },
  {
   "cell_type": "markdown",
   "id": "98917ee8",
   "metadata": {},
   "source": [
    "## II. Cleaning data:\n",
    "Wrong data detected."
   ]
  },
  {
   "cell_type": "code",
   "execution_count": 8,
   "id": "f7ba07a2",
   "metadata": {},
   "outputs": [
    {
     "name": "stdout",
     "output_type": "stream",
     "text": [
      "['App', 'Category', 'Rating', 'Reviews', 'Size', 'Installs', 'Type', 'Price', 'Content Rating', 'Genres', 'Last Updated', 'Current Ver', 'Android Ver']\n",
      "\n",
      "\n",
      "['osmino Wi-Fi: free WiFi', 'TOOLS', '4.2', '134203', '4.1M', '10,000,000+', 'Free', '0', 'Everyone', 'Tools', 'August 7, 2018', '6.06.14', '4.4 and up']\n",
      "\n",
      "\n",
      "['Tattoo Name On My Photo Editor', 'ART_AND_DESIGN', '4.2', '44829', '20M', '10,000,000+', 'Free', '0', 'Teen', 'Art & Design', 'April 2, 2018', '3.8', '4.1 and up']\n"
     ]
    }
   ],
   "source": [
    "print(google_play_header)\n",
    "print('\\n')\n",
    "print(google_play[10472])\n",
    "print('\\n')\n",
    "print(google_play[12])"
   ]
  },
  {
   "cell_type": "code",
   "execution_count": 9,
   "id": "ee44d62d",
   "metadata": {},
   "outputs": [
    {
     "name": "stdout",
     "output_type": "stream",
     "text": [
      "['osmino Wi-Fi: free WiFi', 'TOOLS', '4.2', '134203', '4.1M', '10,000,000+', 'Free', '0', 'Everyone', 'Tools', 'August 7, 2018', '6.06.14', '4.4 and up']\n",
      "['Sat-Fi Voice', 'COMMUNICATION', '3.4', '37', '14M', '1,000+', 'Free', '0', 'Everyone', 'Communication', 'November 21, 2014', '2.2.1.5', '2.2 and up']\n"
     ]
    }
   ],
   "source": [
    "print(google_play[10472])\n",
    "del google_play[10472]\n",
    "print(google_play[10472])"
   ]
  },
  {
   "cell_type": "markdown",
   "id": "7742700e",
   "metadata": {},
   "source": [
    "Finding and removing the duplicates."
   ]
  },
  {
   "cell_type": "code",
   "execution_count": 10,
   "id": "0523b8b0",
   "metadata": {},
   "outputs": [
    {
     "name": "stdout",
     "output_type": "stream",
     "text": [
      "['Facebook', 'SOCIAL', '4.1', '78158306', 'Varies with device', '1,000,000,000+', 'Free', '0', 'Teen', 'Social', 'August 3, 2018', 'Varies with device', 'Varies with device']\n",
      "\n",
      "\n",
      "['Facebook', 'SOCIAL', '4.1', '78128208', 'Varies with device', '1,000,000,000+', 'Free', '0', 'Teen', 'Social', 'August 3, 2018', 'Varies with device', 'Varies with device']\n",
      "\n",
      "\n"
     ]
    }
   ],
   "source": [
    "for row in google_play:\n",
    "    name = row[0]\n",
    "    if name == 'Facebook':\n",
    "        print(row)\n",
    "        print('\\n')"
   ]
  },
  {
   "cell_type": "code",
   "execution_count": 12,
   "id": "0e091eaa",
   "metadata": {},
   "outputs": [
    {
     "name": "stdout",
     "output_type": "stream",
     "text": [
      "['Clash of Clans', 'GAME', '4.6', '44891723', '98M', '100,000,000+', 'Free', '0', 'Everyone 10+', 'Strategy', 'July 15, 2018', '10.322.16', '4.1 and up']\n",
      "\n",
      "\n",
      "['Clash of Clans', 'GAME', '4.6', '44891723', '98M', '100,000,000+', 'Free', '0', 'Everyone 10+', 'Strategy', 'July 15, 2018', '10.322.16', '4.1 and up']\n",
      "\n",
      "\n",
      "['Clash of Clans', 'GAME', '4.6', '44893888', '98M', '100,000,000+', 'Free', '0', 'Everyone 10+', 'Strategy', 'July 15, 2018', '10.322.16', '4.1 and up']\n",
      "\n",
      "\n",
      "['Clash of Clans', 'FAMILY', '4.6', '44881447', '98M', '100,000,000+', 'Free', '0', 'Everyone 10+', 'Strategy', 'July 15, 2018', '10.322.16', '4.1 and up']\n",
      "\n",
      "\n"
     ]
    }
   ],
   "source": [
    "for row in google_play:\n",
    "    name = row[0]\n",
    "    if name == 'Clash of Clans':\n",
    "        print(row)\n",
    "        print('\\n')"
   ]
  },
  {
   "cell_type": "markdown",
   "id": "772aa681",
   "metadata": {},
   "source": [
    "Keep the line with the largest number of reviews in the duplicated application list, delete the rest. "
   ]
  },
  {
   "cell_type": "code",
   "execution_count": 13,
   "id": "15660c39",
   "metadata": {},
   "outputs": [
    {
     "name": "stdout",
     "output_type": "stream",
     "text": [
      "Number of unique apps:  9659\n",
      "Exemples of unique apps:  ['Photo Editor & Candy Camera & Grid & ScrapBook', 'Coloring book moana', 'U Launcher Lite – FREE Live Cool Themes, Hide Apps', 'Sketch - Draw & Paint', 'Pixel Draw - Number Art Coloring Book', 'Paper flowers instructions', 'Smoke Effect Photo Maker - Smoke Editor', 'Infinite Painter', 'Garden Coloring Book', 'Kids Paint Free - Drawing Fun', 'Text on Photo - Fonteee', 'Name Art Photo Editor - Focus n Filters', 'Tattoo Name On My Photo Editor', 'Mandala Coloring Book', '3D Color Pixel by Number - Sandbox Art Coloring']\n",
      "\n",
      "\n",
      "Number of duplicated apps:  1180\n",
      "Exemples of duplicated apps:  ['Quick PDF Scanner + OCR FREE', 'Box', 'Google My Business', 'ZOOM Cloud Meetings', 'join.me - Simple Meetings', 'Box', 'Zenefits', 'Google Ads', 'Google My Business', 'Slack', 'FreshBooks Classic', 'Insightly CRM', 'QuickBooks Accounting: Invoicing & Expenses', 'HipChat - Chat Built for Teams', 'Xero Accounting Software']\n"
     ]
    }
   ],
   "source": [
    "unique_app = [] #nhet ten nhung ung dung duy nhat vao day\n",
    "duplicated_app = [] # nhet ten nhung ung dung lap lai vao day\n",
    "for row in google_play:\n",
    "    name = row[0]\n",
    "    if name in unique_app:\n",
    "        duplicated_app.append(name)\n",
    "    else:\n",
    "        unique_app.append(name)\n",
    "print('Number of unique apps: ', len(unique_app))\n",
    "print('Exemples of unique apps: ', unique_app[:15])\n",
    "print('\\n')\n",
    "print('Number of duplicated apps: ',len(duplicated_app))\n",
    "print('Exemples of duplicated apps: ', duplicated_app[:15])"
   ]
  },
  {
   "cell_type": "code",
   "execution_count": 14,
   "id": "6940f28d",
   "metadata": {},
   "outputs": [
    {
     "name": "stdout",
     "output_type": "stream",
     "text": [
      "9659\n",
      "44893888.0\n"
     ]
    }
   ],
   "source": [
    "review_max = {}\n",
    "for row in google_play:\n",
    "    name = row[0]\n",
    "    n_reviews = float(row[3])\n",
    "    if name in review_max and review_max[name] < n_reviews:\n",
    "        review_max[name] = n_reviews\n",
    "    elif name not in review_max:\n",
    "        review_max[name] = n_reviews\n",
    "print(len(review_max)) \n",
    "print(review_max['Clash of Clans'])"
   ]
  },
  {
   "cell_type": "code",
   "execution_count": 15,
   "id": "588b2380",
   "metadata": {},
   "outputs": [],
   "source": [
    "google_play_clean = []\n",
    "already_added = []\n",
    "for row in google_play:\n",
    "    name = row[0]\n",
    "    n_reviews = float(row[3])\n",
    "    if (review_max[name] == n_reviews) and (name not in already_added):\n",
    "        google_play_clean.append(row)\n",
    "        already_added.append(name)"
   ]
  },
  {
   "cell_type": "markdown",
   "id": "b2f55924",
   "metadata": {},
   "source": [
    "It is the time to test"
   ]
  },
  {
   "cell_type": "code",
   "execution_count": 16,
   "id": "9d225bf5",
   "metadata": {},
   "outputs": [
    {
     "name": "stdout",
     "output_type": "stream",
     "text": [
      "['Photo Editor & Candy Camera & Grid & ScrapBook', 'ART_AND_DESIGN', '4.1', '159', '19M', '10,000+', 'Free', '0', 'Everyone', 'Art & Design', 'January 7, 2018', '1.0.0', '4.0.3 and up']\n",
      "\n",
      "\n",
      "Number of row:  9659\n",
      "Number of column:  13\n",
      "['U Launcher Lite – FREE Live Cool Themes, Hide Apps', 'ART_AND_DESIGN', '4.7', '87510', '8.7M', '5,000,000+', 'Free', '0', 'Everyone', 'Art & Design', 'August 1, 2018', '1.2.4', '4.0.3 and up']\n",
      "\n",
      "\n",
      "Number of row:  9659\n",
      "Number of column:  13\n",
      "['Sketch - Draw & Paint', 'ART_AND_DESIGN', '4.5', '215644', '25M', '50,000,000+', 'Free', '0', 'Teen', 'Art & Design', 'June 8, 2018', 'Varies with device', '4.2 and up']\n",
      "\n",
      "\n",
      "Number of row:  9659\n",
      "Number of column:  13\n"
     ]
    }
   ],
   "source": [
    "explore_data(google_play_clean,0,3)"
   ]
  },
  {
   "cell_type": "code",
   "execution_count": 17,
   "id": "2b10147b",
   "metadata": {},
   "outputs": [
    {
     "name": "stdout",
     "output_type": "stream",
     "text": [
      "True\n",
      "False\n"
     ]
    }
   ],
   "source": [
    "def english(string):\n",
    "    for character in string:\n",
    "        if ord(character) > 127: #trả kí tự chữ sang số theo bảng ascii\n",
    "            return False\n",
    "    return True\n",
    "\n",
    "print(english('Hello World'))\n",
    "print(english('Hello world ça va'))"
   ]
  },
  {
   "cell_type": "code",
   "execution_count": 20,
   "id": "daf557c6",
   "metadata": {},
   "outputs": [
    {
     "name": "stdout",
     "output_type": "stream",
     "text": [
      "False\n",
      "True\n"
     ]
    }
   ],
   "source": [
    "def english2(string):\n",
    "    non_ascii = 0\n",
    "    for character in string:\n",
    "        if ord(character) > 127:\n",
    "            non_ascii += 1\n",
    "    if non_ascii > 3:\n",
    "        return True\n",
    "    else:\n",
    "        return False\n",
    "print(english2('Hello world'))\n",
    "print(english2('Hello world ççççça va'))"
   ]
  },
  {
   "cell_type": "code",
   "execution_count": 25,
   "id": "e06b76e9",
   "metadata": {},
   "outputs": [],
   "source": [
    "google_play_english = []\n",
    "apple_store_english = []\n",
    "for row in google_play_clean:\n",
    "    name = row[0]\n",
    "    if english2(name) == False:\n",
    "        google_play_english.append(row)\n",
    "for row in apple_store:\n",
    "    name = row[1]\n",
    "    if english2(name) == False:\n",
    "        apple_store_english.append(row)"
   ]
  },
  {
   "cell_type": "markdown",
   "id": "e592eb08",
   "metadata": {},
   "source": [
    "Focus on the free apps:"
   ]
  },
  {
   "cell_type": "code",
   "execution_count": 26,
   "id": "6ac166a5",
   "metadata": {},
   "outputs": [
    {
     "name": "stdout",
     "output_type": "stream",
     "text": [
      "['Photo Editor & Candy Camera & Grid & ScrapBook', 'ART_AND_DESIGN', '4.1', '159', '19M', '10,000+', 'Free', '0', 'Everyone', 'Art & Design', 'January 7, 2018', '1.0.0', '4.0.3 and up']\n",
      "\n",
      "\n",
      "Number of row:  8864\n",
      "Number of column:  13\n",
      "['284882215', 'Facebook', '389879808', 'USD', '0.0', '2974676', '212', '3.5', '3.5', '95.0', '4+', 'Social Networking', '37', '1', '29', '1']\n",
      "\n",
      "\n",
      "Number of row:  3222\n",
      "Number of column:  16\n"
     ]
    }
   ],
   "source": [
    "google_play_final = []\n",
    "apple_store_final = []\n",
    "for row in google_play_english:\n",
    "    price = row[7]\n",
    "    if price == '0':\n",
    "        google_play_final.append(row)\n",
    "\n",
    "for row in apple_store_english:\n",
    "    price = row[4]\n",
    "    if price == '0.0':\n",
    "         apple_store_final.append(row)\n",
    "\n",
    "explore_data(google_play_final,0,1)\n",
    "explore_data(apple_store_final,0,1)"
   ]
  },
  {
   "cell_type": "markdown",
   "id": "6d243a40",
   "metadata": {},
   "source": [
    "## III. Data analysis"
   ]
  },
  {
   "cell_type": "code",
   "execution_count": 27,
   "id": "d49cd70e",
   "metadata": {},
   "outputs": [
    {
     "name": "stdout",
     "output_type": "stream",
     "text": [
      "['App', 'Category', 'Rating', 'Reviews', 'Size', 'Installs', 'Type', 'Price', 'Content Rating', 'Genres', 'Last Updated', 'Current Ver', 'Android Ver']\n",
      "['id', 'track_name', 'size_bytes', 'currency', 'price', 'rating_count_tot', 'rating_count_ver', 'user_rating', 'user_rating_ver', 'ver', 'cont_rating', 'prime_genre', 'sup_devices.num', 'ipadSc_urls.num', 'lang.num', 'vpp_lic']\n"
     ]
    }
   ],
   "source": [
    "print(google_play_header)\n",
    "print(apple_store_header)"
   ]
  },
  {
   "cell_type": "markdown",
   "id": "39605e03",
   "metadata": {},
   "source": [
    "Create an input function that is a list of data and an index corresponding to the column to get data, the output is a dictionary with the key as the data corresponding of the input column, and the percentage according to the number of applications"
   ]
  },
  {
   "cell_type": "code",
   "execution_count": 28,
   "id": "ee2063e5",
   "metadata": {},
   "outputs": [
    {
     "name": "stdout",
     "output_type": "stream",
     "text": [
      "Games : 58.16 %\n",
      "Entertainment : 7.88 %\n",
      "Photo & Video : 4.97 %\n",
      "Education : 3.66 %\n",
      "Social Networking : 3.29 %\n",
      "Shopping : 2.61 %\n",
      "Utilities : 2.51 %\n",
      "Sports : 2.14 %\n",
      "Music : 2.05 %\n",
      "Health & Fitness : 2.02 %\n",
      "Productivity : 1.74 %\n",
      "Lifestyle : 1.58 %\n",
      "News : 1.33 %\n",
      "Travel : 1.24 %\n",
      "Finance : 1.12 %\n",
      "Weather : 0.87 %\n",
      "Food & Drink : 0.81 %\n",
      "Reference : 0.56 %\n",
      "Business : 0.53 %\n",
      "Book : 0.43 %\n",
      "Navigation : 0.19 %\n",
      "Medical : 0.19 %\n",
      "Catalogs : 0.12 %\n"
     ]
    }
   ],
   "source": [
    "def freq_table(dataset,index):\n",
    "    table = {}\n",
    "    total = len(dataset)\n",
    "    for row in dataset:\n",
    "        value = row[index]\n",
    "        if value in table:\n",
    "            table[value] += 1\n",
    "        else:\n",
    "            table[value] = 1   \n",
    "    table_percen = {}\n",
    "    for key in table:\n",
    "        percentage = (table[key]/total)*100\n",
    "        table_percen[key] = round(percentage,2)\n",
    "    return table_percen\n",
    "\n",
    "def display_table(dataset,index):\n",
    "    table = freq_table(dataset,index)\n",
    "    table_display = []\n",
    "    for key in table:\n",
    "        key_tuple = (table[key],key)\n",
    "        table_display.append(key_tuple)\n",
    "    table_sorted = sorted(table_display, reverse = True)\n",
    "    for entry in table_sorted:\n",
    "        print(entry[1],':',entry[0],'%')\n",
    "\n",
    "display_table(apple_store_final,-5)"
   ]
  },
  {
   "cell_type": "markdown",
   "id": "8757d946",
   "metadata": {},
   "source": [
    "Conclusion: Games already taken up more than half of the free app genres in Apple Store."
   ]
  },
  {
   "cell_type": "code",
   "execution_count": 64,
   "id": "b19372ed",
   "metadata": {},
   "outputs": [
    {
     "name": "stdout",
     "output_type": "stream",
     "text": [
      "Education : 14.63 %\n",
      "News & Magazines : 9.76 %\n",
      "Lifestyle : 9.76 %\n",
      "Entertainment : 9.76 %\n",
      "Books & Reference : 9.76 %\n",
      "Simulation : 7.32 %\n",
      "Maps & Navigation : 4.88 %\n",
      "Video Players & Editors : 2.44 %\n",
      "Trivia : 2.44 %\n",
      "Tools : 2.44 %\n",
      "Strategy : 2.44 %\n",
      "Shopping : 2.44 %\n",
      "Productivity : 2.44 %\n",
      "Photography : 2.44 %\n",
      "Personalization : 2.44 %\n",
      "Education;Education : 2.44 %\n",
      "Communication : 2.44 %\n",
      "Comics : 2.44 %\n",
      "Business : 2.44 %\n",
      "Art & Design : 2.44 %\n",
      "Adventure : 2.44 %\n"
     ]
    }
   ],
   "source": [
    "display_table(google_play_final,-4)"
   ]
  },
  {
   "cell_type": "markdown",
   "id": "0d926692",
   "metadata": {},
   "source": [
    "Conclusion: Education taken up 14% of the free app genres in Google Play."
   ]
  },
  {
   "cell_type": "code",
   "execution_count": 31,
   "id": "5da074ca",
   "metadata": {},
   "outputs": [],
   "source": [
    "def list_sorted(a_list):\n",
    "    table_sorted = sorted(a_list, reverse = True)  #hàm sắp xếp tăng dần, reverse: đảo ngược\n",
    "    for entry in table_sorted:\n",
    "        print(entry[1],':', entry[0])"
   ]
  },
  {
   "cell_type": "code",
   "execution_count": 66,
   "id": "e571494a",
   "metadata": {},
   "outputs": [
    {
     "name": "stdout",
     "output_type": "stream",
     "text": [
      "Music : 745\n",
      "Entertainment : 641\n",
      "Productivity : 625\n",
      "News : 541\n",
      "Utilities : 488\n",
      "Sports : 258\n",
      "Navigation : 207\n",
      "Shopping : 192\n",
      "Health & Fitness : 182\n",
      "Social Networking : 164\n",
      "Travel : 147\n",
      "Book : 82\n",
      "Lifestyle : 74\n",
      "Finance : 63\n",
      "Food & Drink : 60\n",
      "Education : 49\n",
      "Games : 18\n",
      "Photo & Video : 12\n",
      "Weather : 4\n",
      "Medical : 3\n",
      "Business : 2\n",
      "Reference : 0\n",
      "Catalogs : 0\n"
     ]
    }
   ],
   "source": [
    "genres_apple_store = freq_table(apple_store_final,-5)\n",
    "avg_genres_rating = []\n",
    "for genre in genres_apple_store:\n",
    "    total = 0\n",
    "    len_genre = 0\n",
    "    for row in apple_store_final:\n",
    "        genre_row  = row[-5]\n",
    "        if genre_row == genre:\n",
    "            n_ratings = float(row[5])\n",
    "            len_genre += 1\n",
    "            total += n_ratings\n",
    "    avg_n_ratings = total/len_genre\n",
    "    genre_tuple = (round(avg_n_ratings), genre)\n",
    "    avg_genres_rating.append(genre_tuple)\n",
    "list_sorted(avg_genres_rating)"
   ]
  },
  {
   "cell_type": "code",
   "execution_count": 32,
   "id": "21775aa5",
   "metadata": {},
   "outputs": [
    {
     "name": "stdout",
     "output_type": "stream",
     "text": [
      "Bible : 985920\n",
      "Dictionary.com Dictionary & Thesaurus : 200047\n",
      "Dictionary.com Dictionary & Thesaurus for iPad : 54175\n",
      "Google Translate : 26786\n",
      "Muslim Pro: Ramadan 2017 Prayer Times, Azan, Quran : 18418\n",
      "New Furniture Mods - Pocket Wiki & Game Tools for Minecraft PC Edition : 17588\n",
      "Merriam-Webster Dictionary : 16849\n",
      "Night Sky : 12122\n",
      "City Maps for Minecraft PE - The Best Maps for Minecraft Pocket Edition (MCPE) : 8535\n",
      "LUCKY BLOCK MOD ™ for Minecraft PC Edition - The Best Pocket Wiki & Mods Installer Tools : 4693\n",
      "GUNS MODS for Minecraft PC Edition - Mods Tools : 1497\n",
      "Guides for Pokémon GO - Pokemon GO News and Cheats : 826\n",
      "WWDC : 762\n",
      "Horror Maps for Minecraft PE - Download The Scariest Maps for Minecraft Pocket Edition (MCPE) Free : 718\n",
      "VPN Express : 14\n",
      "Real Bike Traffic Rider Virtual Reality Glasses : 8\n",
      "教えて!goo : 0\n",
      "Jishokun-Japanese English Dictionary & Translator : 0\n"
     ]
    }
   ],
   "source": [
    "for app in apple_store_final:\n",
    "    if app[-5] == 'Reference':\n",
    "        print(app[1], ':', app[5])"
   ]
  },
  {
   "cell_type": "code",
   "execution_count": 33,
   "id": "44877ad2",
   "metadata": {},
   "outputs": [
    {
     "name": "stdout",
     "output_type": "stream",
     "text": [
      "1,000,000+ : 15.73 %\n",
      "100,000+ : 11.55 %\n",
      "10,000,000+ : 10.55 %\n",
      "10,000+ : 10.2 %\n",
      "1,000+ : 8.39 %\n",
      "100+ : 6.92 %\n",
      "5,000,000+ : 6.83 %\n",
      "500,000+ : 5.56 %\n",
      "50,000+ : 4.77 %\n",
      "5,000+ : 4.51 %\n",
      "10+ : 3.54 %\n",
      "500+ : 3.25 %\n",
      "50,000,000+ : 2.3 %\n",
      "100,000,000+ : 2.13 %\n",
      "50+ : 1.92 %\n",
      "5+ : 0.79 %\n",
      "1+ : 0.51 %\n",
      "500,000,000+ : 0.27 %\n",
      "1,000,000,000+ : 0.23 %\n",
      "0+ : 0.05 %\n",
      "0 : 0.01 %\n"
     ]
    }
   ],
   "source": [
    "display_table(google_play_final,5)"
   ]
  },
  {
   "cell_type": "code",
   "execution_count": 34,
   "id": "b2d13a2f",
   "metadata": {},
   "outputs": [
    {
     "name": "stdout",
     "output_type": "stream",
     "text": [
      "COMMUNICATION : 38456119\n",
      "VIDEO_PLAYERS : 24727872\n",
      "SOCIAL : 23253652\n",
      "PHOTOGRAPHY : 17840110\n",
      "PRODUCTIVITY : 16787331\n",
      "GAME : 15588016\n",
      "TRAVEL_AND_LOCAL : 13984078\n",
      "ENTERTAINMENT : 11640706\n",
      "TOOLS : 10801391\n",
      "NEWS_AND_MAGAZINES : 9549178\n",
      "BOOKS_AND_REFERENCE : 8767812\n",
      "SHOPPING : 7036877\n",
      "PERSONALIZATION : 5201483\n",
      "WEATHER : 5074486\n",
      "HEALTH_AND_FITNESS : 4188822\n",
      "MAPS_AND_NAVIGATION : 4056942\n",
      "FAMILY : 3695642\n",
      "SPORTS : 3638640\n",
      "ART_AND_DESIGN : 1986335\n",
      "FOOD_AND_DRINK : 1924898\n",
      "EDUCATION : 1833495\n",
      "BUSINESS : 1712290\n",
      "LIFESTYLE : 1437816\n",
      "FINANCE : 1387692\n",
      "HOUSE_AND_HOME : 1331541\n",
      "DATING : 854029\n",
      "COMICS : 817657\n",
      "AUTO_AND_VEHICLES : 647318\n",
      "LIBRARIES_AND_DEMO : 638504\n",
      "PARENTING : 542604\n",
      "BEAUTY : 513152\n",
      "EVENTS : 253542\n",
      "MEDICAL : 120551\n"
     ]
    }
   ],
   "source": [
    "category_google_play = freq_table(google_play_final,1)\n",
    "avg_category_rating = []\n",
    "for category in category_google_play:\n",
    "    total = 0\n",
    "    len_category = 0\n",
    "    for row in google_play_final:\n",
    "        category_row  = row[1]\n",
    "        if category_row == category:\n",
    "            n_install = row[5]\n",
    "            n_install = n_install.replace('+','')\n",
    "            n_install = n_install.replace(',','')\n",
    "            n_install = float(n_install)\n",
    "            len_category += 1\n",
    "            total += n_install\n",
    "            avg_n_ratings = total/len_category\n",
    "    category_tuple = (round(avg_n_ratings), category)\n",
    "    avg_category_rating.append(category_tuple)\n",
    "list_sorted(avg_category_rating)"
   ]
  },
  {
   "cell_type": "code",
   "execution_count": 35,
   "id": "df405a4c",
   "metadata": {},
   "outputs": [
    {
     "name": "stdout",
     "output_type": "stream",
     "text": [
      "WhatsApp Messenger : 1,000,000,000+\n",
      "Google Duo - High Quality Video Calls : 500,000,000+\n",
      "Messenger – Text and Video Chat for Free : 1,000,000,000+\n",
      "imo free video calls and chat : 500,000,000+\n",
      "Skype - free IM & video calls : 1,000,000,000+\n",
      "LINE: Free Calls & Messages : 500,000,000+\n",
      "Google Chrome: Fast & Secure : 1,000,000,000+\n",
      "UC Browser - Fast Download Private & Secure : 500,000,000+\n",
      "Gmail : 1,000,000,000+\n",
      "Hangouts : 1,000,000,000+\n",
      "Viber Messenger : 500,000,000+\n"
     ]
    }
   ],
   "source": [
    "for app in google_play_final:\n",
    "    if app[1] == 'COMMUNICATION' and (app[5] == '500,000,000+' or app[5] == '1,000,000,000+'):\n",
    "        print(app[0], ':', app[5])"
   ]
  },
  {
   "cell_type": "markdown",
   "id": "ed1198cb",
   "metadata": {},
   "source": [
    "Conclusion: I think photography and productivity category are potential. "
   ]
  }
 ],
 "metadata": {
  "kernelspec": {
   "display_name": "Python 3",
   "language": "python",
   "name": "python3"
  },
  "language_info": {
   "codemirror_mode": {
    "name": "ipython",
    "version": 3
   },
   "file_extension": ".py",
   "mimetype": "text/x-python",
   "name": "python",
   "nbconvert_exporter": "python",
   "pygments_lexer": "ipython3",
   "version": "3.8.8"
  }
 },
 "nbformat": 4,
 "nbformat_minor": 5
}
