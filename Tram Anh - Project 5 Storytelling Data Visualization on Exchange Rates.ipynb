{
 "cells": [
  {
   "cell_type": "markdown",
   "id": "b3f7421a",
   "metadata": {},
   "source": [
    "# Project 5: Storytelling Data Visualization on Exchange Rates\n",
    "\n",
    "Target: analyse the exchange rate from euros to us dollars and euros and pound\n",
    "\n",
    "Source: https://www.kaggle.com/lsind18/euro-exchange-daily-rates-19992020\n",
    "\n",
    "## I. Opening data"
   ]
  },
  {
   "cell_type": "code",
   "execution_count": 2,
   "id": "2f62e848",
   "metadata": {},
   "outputs": [],
   "source": [
    "import pandas as pd\n",
    "import numpy as np\n",
    "import matplotlib.pyplot as plt\n",
    "import matplotlib.style as style\n",
    "import seaborn as sns\n",
    "import datetime as dt\n",
    "import warnings\n",
    "warnings.filterwarnings('ignore')\n",
    "%matplotlib inline"
   ]
  },
  {
   "cell_type": "code",
   "execution_count": 3,
   "id": "f88a91a9",
   "metadata": {},
   "outputs": [
    {
     "name": "stdout",
     "output_type": "stream",
     "text": [
      "<class 'pandas.core.frame.DataFrame'>\n",
      "RangeIndex: 5878 entries, 0 to 5877\n",
      "Data columns (total 45 columns):\n",
      " #   Column                    Non-Null Count  Dtype  \n",
      "---  ------                    --------------  -----  \n",
      " 0   Period\\Unit:              5878 non-null   object \n",
      " 1   [Argentine peso ]         5383 non-null   object \n",
      " 2   [Australian dollar ]      5878 non-null   object \n",
      " 3   [Bulgarian lev ]          5476 non-null   object \n",
      " 4   [Brazilian real ]         5610 non-null   object \n",
      " 5   [Canadian dollar ]        5878 non-null   object \n",
      " 6   [Swiss franc ]            5878 non-null   object \n",
      " 7   [Chinese yuan renminbi ]  5610 non-null   object \n",
      " 8   [Cypriot pound ]          2346 non-null   object \n",
      " 9   [Czech koruna ]           5878 non-null   object \n",
      " 10  [Danish krone ]           5878 non-null   object \n",
      " 11  [Algerian dinar ]         5383 non-null   object \n",
      " 12  [Estonian kroon ]         3130 non-null   object \n",
      " 13  [UK pound sterling ]      5878 non-null   object \n",
      " 14  [Greek drachma ]          520 non-null    object \n",
      " 15  [Hong Kong dollar ]       5878 non-null   object \n",
      " 16  [Croatian kuna ]          5610 non-null   object \n",
      " 17  [Hungarian forint ]       5878 non-null   object \n",
      " 18  [Indonesian rupiah ]      5878 non-null   object \n",
      " 19  [Israeli shekel ]         5610 non-null   object \n",
      " 20  [Indian rupee ]           5610 non-null   object \n",
      " 21  [Iceland krona ]          3471 non-null   float64\n",
      " 22  [Japanese yen ]           5878 non-null   object \n",
      " 23  [Korean won ]             5878 non-null   object \n",
      " 24  [Lithuanian litas ]       4159 non-null   object \n",
      " 25  [Latvian lats ]           3904 non-null   object \n",
      " 26  [Moroccan dirham ]        5383 non-null   object \n",
      " 27  [Maltese lira ]           2346 non-null   object \n",
      " 28  [Mexican peso ]           5878 non-null   object \n",
      " 29  [Malaysian ringgit ]      5878 non-null   object \n",
      " 30  [Norwegian krone ]        5878 non-null   object \n",
      " 31  [New Zealand dollar ]     5878 non-null   object \n",
      " 32  [Philippine peso ]        5878 non-null   object \n",
      " 33  [Polish zloty ]           5878 non-null   object \n",
      " 34  [Romanian leu ]           5816 non-null   float64\n",
      " 35  [Russian rouble ]         5878 non-null   object \n",
      " 36  [Swedish krona ]          5878 non-null   object \n",
      " 37  [Singapore dollar ]       5878 non-null   object \n",
      " 38  [Slovenian tolar ]        2085 non-null   object \n",
      " 39  [Slovak koruna ]          2608 non-null   object \n",
      " 40  [Thai baht ]              5878 non-null   object \n",
      " 41  [Turkish lira ]           5816 non-null   float64\n",
      " 42  [New Taiwan dollar ]      5383 non-null   object \n",
      " 43  [US dollar ]              5878 non-null   object \n",
      " 44  [South African rand ]     5878 non-null   object \n",
      "dtypes: float64(3), object(42)\n",
      "memory usage: 2.0+ MB\n"
     ]
    }
   ],
   "source": [
    "exchange_rates = pd.read_csv('euro-daily-hist_1999_2021.csv')\n",
    "pd.set_option('max_columns', exchange_rates.shape[1])\n",
    "exchange_rates.info()"
   ]
  },
  {
   "cell_type": "code",
   "execution_count": 4,
   "id": "bccc44c1",
   "metadata": {},
   "outputs": [
    {
     "data": {
      "text/plain": [
       "Index(['Period\\Unit:', '[Argentine peso ]', '[Australian dollar ]',\n",
       "       '[Bulgarian lev ]', '[Brazilian real ]', '[Canadian dollar ]',\n",
       "       '[Swiss franc ]', '[Chinese yuan renminbi ]', '[Cypriot pound ]',\n",
       "       '[Czech koruna ]', '[Danish krone ]', '[Algerian dinar ]',\n",
       "       '[Estonian kroon ]', '[UK pound sterling ]', '[Greek drachma ]',\n",
       "       '[Hong Kong dollar ]', '[Croatian kuna ]', '[Hungarian forint ]',\n",
       "       '[Indonesian rupiah ]', '[Israeli shekel ]', '[Indian rupee ]',\n",
       "       '[Iceland krona ]', '[Japanese yen ]', '[Korean won ]',\n",
       "       '[Lithuanian litas ]', '[Latvian lats ]', '[Moroccan dirham ]',\n",
       "       '[Maltese lira ]', '[Mexican peso ]', '[Malaysian ringgit ]',\n",
       "       '[Norwegian krone ]', '[New Zealand dollar ]', '[Philippine peso ]',\n",
       "       '[Polish zloty ]', '[Romanian leu ]', '[Russian rouble ]',\n",
       "       '[Swedish krona ]', '[Singapore dollar ]', '[Slovenian tolar ]',\n",
       "       '[Slovak koruna ]', '[Thai baht ]', '[Turkish lira ]',\n",
       "       '[New Taiwan dollar ]', '[US dollar ]', '[South African rand ]'],\n",
       "      dtype='object')"
      ]
     },
     "execution_count": 4,
     "metadata": {},
     "output_type": "execute_result"
    }
   ],
   "source": [
    "exchange_rates.columns"
   ]
  },
  {
   "cell_type": "code",
   "execution_count": 5,
   "id": "316de8a0",
   "metadata": {},
   "outputs": [
    {
     "data": {
      "text/html": [
       "<div>\n",
       "<style scoped>\n",
       "    .dataframe tbody tr th:only-of-type {\n",
       "        vertical-align: middle;\n",
       "    }\n",
       "\n",
       "    .dataframe tbody tr th {\n",
       "        vertical-align: top;\n",
       "    }\n",
       "\n",
       "    .dataframe thead th {\n",
       "        text-align: right;\n",
       "    }\n",
       "</style>\n",
       "<table border=\"1\" class=\"dataframe\">\n",
       "  <thead>\n",
       "    <tr style=\"text-align: right;\">\n",
       "      <th></th>\n",
       "      <th>Period\\Unit:</th>\n",
       "      <th>[Argentine peso ]</th>\n",
       "      <th>[Australian dollar ]</th>\n",
       "      <th>[Bulgarian lev ]</th>\n",
       "      <th>[Brazilian real ]</th>\n",
       "      <th>[Canadian dollar ]</th>\n",
       "      <th>[Swiss franc ]</th>\n",
       "      <th>[Chinese yuan renminbi ]</th>\n",
       "      <th>[Cypriot pound ]</th>\n",
       "      <th>[Czech koruna ]</th>\n",
       "      <th>[Danish krone ]</th>\n",
       "      <th>[Algerian dinar ]</th>\n",
       "      <th>[Estonian kroon ]</th>\n",
       "      <th>[UK pound sterling ]</th>\n",
       "      <th>[Greek drachma ]</th>\n",
       "      <th>[Hong Kong dollar ]</th>\n",
       "      <th>[Croatian kuna ]</th>\n",
       "      <th>[Hungarian forint ]</th>\n",
       "      <th>[Indonesian rupiah ]</th>\n",
       "      <th>[Israeli shekel ]</th>\n",
       "      <th>[Indian rupee ]</th>\n",
       "      <th>[Iceland krona ]</th>\n",
       "      <th>[Japanese yen ]</th>\n",
       "      <th>[Korean won ]</th>\n",
       "      <th>[Lithuanian litas ]</th>\n",
       "      <th>[Latvian lats ]</th>\n",
       "      <th>[Moroccan dirham ]</th>\n",
       "      <th>[Maltese lira ]</th>\n",
       "      <th>[Mexican peso ]</th>\n",
       "      <th>[Malaysian ringgit ]</th>\n",
       "      <th>[Norwegian krone ]</th>\n",
       "      <th>[New Zealand dollar ]</th>\n",
       "      <th>[Philippine peso ]</th>\n",
       "      <th>[Polish zloty ]</th>\n",
       "      <th>[Romanian leu ]</th>\n",
       "      <th>[Russian rouble ]</th>\n",
       "      <th>[Swedish krona ]</th>\n",
       "      <th>[Singapore dollar ]</th>\n",
       "      <th>[Slovenian tolar ]</th>\n",
       "      <th>[Slovak koruna ]</th>\n",
       "      <th>[Thai baht ]</th>\n",
       "      <th>[Turkish lira ]</th>\n",
       "      <th>[New Taiwan dollar ]</th>\n",
       "      <th>[US dollar ]</th>\n",
       "      <th>[South African rand ]</th>\n",
       "    </tr>\n",
       "  </thead>\n",
       "  <tbody>\n",
       "    <tr>\n",
       "      <th>0</th>\n",
       "      <td>2021-09-20</td>\n",
       "      <td>NaN</td>\n",
       "      <td>1.6201</td>\n",
       "      <td>1.9558</td>\n",
       "      <td>6.2495</td>\n",
       "      <td>1.5056</td>\n",
       "      <td>1.0883</td>\n",
       "      <td>7.5726</td>\n",
       "      <td>NaN</td>\n",
       "      <td>25.432</td>\n",
       "      <td>7.4359</td>\n",
       "      <td>NaN</td>\n",
       "      <td>NaN</td>\n",
       "      <td>0.85705</td>\n",
       "      <td>NaN</td>\n",
       "      <td>9.1188</td>\n",
       "      <td>7.5055</td>\n",
       "      <td>353.97</td>\n",
       "      <td>16742.86</td>\n",
       "      <td>3.7635</td>\n",
       "      <td>86.2720</td>\n",
       "      <td>152.0</td>\n",
       "      <td>128.18</td>\n",
       "      <td>1393.32</td>\n",
       "      <td>NaN</td>\n",
       "      <td>NaN</td>\n",
       "      <td>NaN</td>\n",
       "      <td>NaN</td>\n",
       "      <td>23.6419</td>\n",
       "      <td>4.9098</td>\n",
       "      <td>10.2430</td>\n",
       "      <td>1.6694</td>\n",
       "      <td>58.845</td>\n",
       "      <td>4.5997</td>\n",
       "      <td>4.9493</td>\n",
       "      <td>86.0700</td>\n",
       "      <td>10.2173</td>\n",
       "      <td>1.5839</td>\n",
       "      <td>NaN</td>\n",
       "      <td>NaN</td>\n",
       "      <td>39.0620</td>\n",
       "      <td>10.1512</td>\n",
       "      <td>NaN</td>\n",
       "      <td>1.1711</td>\n",
       "      <td>17.3301</td>\n",
       "    </tr>\n",
       "    <tr>\n",
       "      <th>1</th>\n",
       "      <td>2021-09-17</td>\n",
       "      <td>NaN</td>\n",
       "      <td>1.6111</td>\n",
       "      <td>1.9558</td>\n",
       "      <td>6.2039</td>\n",
       "      <td>1.4913</td>\n",
       "      <td>1.0931</td>\n",
       "      <td>7.6044</td>\n",
       "      <td>NaN</td>\n",
       "      <td>25.296</td>\n",
       "      <td>7.4360</td>\n",
       "      <td>NaN</td>\n",
       "      <td>NaN</td>\n",
       "      <td>0.85363</td>\n",
       "      <td>NaN</td>\n",
       "      <td>9.1691</td>\n",
       "      <td>7.5092</td>\n",
       "      <td>351.49</td>\n",
       "      <td>16762.90</td>\n",
       "      <td>3.7752</td>\n",
       "      <td>86.5335</td>\n",
       "      <td>151.4</td>\n",
       "      <td>129.61</td>\n",
       "      <td>1386.26</td>\n",
       "      <td>NaN</td>\n",
       "      <td>NaN</td>\n",
       "      <td>NaN</td>\n",
       "      <td>NaN</td>\n",
       "      <td>23.4722</td>\n",
       "      <td>4.9140</td>\n",
       "      <td>10.1208</td>\n",
       "      <td>1.6658</td>\n",
       "      <td>58.819</td>\n",
       "      <td>4.5804</td>\n",
       "      <td>4.9488</td>\n",
       "      <td>85.4338</td>\n",
       "      <td>10.1553</td>\n",
       "      <td>1.5851</td>\n",
       "      <td>NaN</td>\n",
       "      <td>NaN</td>\n",
       "      <td>39.1450</td>\n",
       "      <td>10.1323</td>\n",
       "      <td>NaN</td>\n",
       "      <td>1.1780</td>\n",
       "      <td>17.1891</td>\n",
       "    </tr>\n",
       "    <tr>\n",
       "      <th>2</th>\n",
       "      <td>2021-09-16</td>\n",
       "      <td>NaN</td>\n",
       "      <td>1.6077</td>\n",
       "      <td>1.9558</td>\n",
       "      <td>6.1611</td>\n",
       "      <td>1.4863</td>\n",
       "      <td>1.0886</td>\n",
       "      <td>7.5849</td>\n",
       "      <td>NaN</td>\n",
       "      <td>25.281</td>\n",
       "      <td>7.4360</td>\n",
       "      <td>NaN</td>\n",
       "      <td>NaN</td>\n",
       "      <td>0.85025</td>\n",
       "      <td>NaN</td>\n",
       "      <td>9.1575</td>\n",
       "      <td>7.5041</td>\n",
       "      <td>350.19</td>\n",
       "      <td>16766.34</td>\n",
       "      <td>3.7742</td>\n",
       "      <td>86.4730</td>\n",
       "      <td>151.2</td>\n",
       "      <td>128.67</td>\n",
       "      <td>1380.44</td>\n",
       "      <td>NaN</td>\n",
       "      <td>NaN</td>\n",
       "      <td>NaN</td>\n",
       "      <td>NaN</td>\n",
       "      <td>23.3728</td>\n",
       "      <td>4.8952</td>\n",
       "      <td>10.1293</td>\n",
       "      <td>1.6548</td>\n",
       "      <td>58.715</td>\n",
       "      <td>4.5763</td>\n",
       "      <td>4.9488</td>\n",
       "      <td>85.2347</td>\n",
       "      <td>10.1518</td>\n",
       "      <td>1.5805</td>\n",
       "      <td>NaN</td>\n",
       "      <td>NaN</td>\n",
       "      <td>38.9180</td>\n",
       "      <td>9.9663</td>\n",
       "      <td>NaN</td>\n",
       "      <td>1.1763</td>\n",
       "      <td>17.0544</td>\n",
       "    </tr>\n",
       "    <tr>\n",
       "      <th>3</th>\n",
       "      <td>2021-09-15</td>\n",
       "      <td>NaN</td>\n",
       "      <td>1.6153</td>\n",
       "      <td>1.9558</td>\n",
       "      <td>6.1979</td>\n",
       "      <td>1.5004</td>\n",
       "      <td>1.0845</td>\n",
       "      <td>7.6069</td>\n",
       "      <td>NaN</td>\n",
       "      <td>25.318</td>\n",
       "      <td>7.4361</td>\n",
       "      <td>NaN</td>\n",
       "      <td>NaN</td>\n",
       "      <td>0.85510</td>\n",
       "      <td>NaN</td>\n",
       "      <td>9.2021</td>\n",
       "      <td>7.4838</td>\n",
       "      <td>348.86</td>\n",
       "      <td>16826.33</td>\n",
       "      <td>3.7881</td>\n",
       "      <td>86.8625</td>\n",
       "      <td>151.2</td>\n",
       "      <td>129.11</td>\n",
       "      <td>1380.77</td>\n",
       "      <td>NaN</td>\n",
       "      <td>NaN</td>\n",
       "      <td>NaN</td>\n",
       "      <td>NaN</td>\n",
       "      <td>23.4927</td>\n",
       "      <td>4.9170</td>\n",
       "      <td>10.1418</td>\n",
       "      <td>1.6666</td>\n",
       "      <td>58.742</td>\n",
       "      <td>4.5501</td>\n",
       "      <td>4.9485</td>\n",
       "      <td>85.9738</td>\n",
       "      <td>10.1360</td>\n",
       "      <td>1.5860</td>\n",
       "      <td>NaN</td>\n",
       "      <td>NaN</td>\n",
       "      <td>38.8650</td>\n",
       "      <td>9.9769</td>\n",
       "      <td>NaN</td>\n",
       "      <td>1.1824</td>\n",
       "      <td>16.8973</td>\n",
       "    </tr>\n",
       "    <tr>\n",
       "      <th>4</th>\n",
       "      <td>2021-09-14</td>\n",
       "      <td>NaN</td>\n",
       "      <td>1.6114</td>\n",
       "      <td>1.9558</td>\n",
       "      <td>6.1788</td>\n",
       "      <td>1.4951</td>\n",
       "      <td>1.0887</td>\n",
       "      <td>7.6168</td>\n",
       "      <td>NaN</td>\n",
       "      <td>25.389</td>\n",
       "      <td>7.4361</td>\n",
       "      <td>NaN</td>\n",
       "      <td>NaN</td>\n",
       "      <td>0.85260</td>\n",
       "      <td>NaN</td>\n",
       "      <td>9.1899</td>\n",
       "      <td>7.4760</td>\n",
       "      <td>350.05</td>\n",
       "      <td>16857.27</td>\n",
       "      <td>3.7968</td>\n",
       "      <td>87.0370</td>\n",
       "      <td>151.2</td>\n",
       "      <td>130.08</td>\n",
       "      <td>1382.66</td>\n",
       "      <td>NaN</td>\n",
       "      <td>NaN</td>\n",
       "      <td>NaN</td>\n",
       "      <td>NaN</td>\n",
       "      <td>23.5067</td>\n",
       "      <td>4.9170</td>\n",
       "      <td>10.1745</td>\n",
       "      <td>1.6625</td>\n",
       "      <td>58.868</td>\n",
       "      <td>4.5542</td>\n",
       "      <td>4.9485</td>\n",
       "      <td>86.1062</td>\n",
       "      <td>10.1453</td>\n",
       "      <td>1.5870</td>\n",
       "      <td>NaN</td>\n",
       "      <td>NaN</td>\n",
       "      <td>38.9270</td>\n",
       "      <td>9.9848</td>\n",
       "      <td>NaN</td>\n",
       "      <td>1.1814</td>\n",
       "      <td>16.8097</td>\n",
       "    </tr>\n",
       "  </tbody>\n",
       "</table>\n",
       "</div>"
      ],
      "text/plain": [
       "  Period\\Unit: [Argentine peso ] [Australian dollar ] [Bulgarian lev ]  \\\n",
       "0   2021-09-20               NaN               1.6201           1.9558   \n",
       "1   2021-09-17               NaN               1.6111           1.9558   \n",
       "2   2021-09-16               NaN               1.6077           1.9558   \n",
       "3   2021-09-15               NaN               1.6153           1.9558   \n",
       "4   2021-09-14               NaN               1.6114           1.9558   \n",
       "\n",
       "  [Brazilian real ] [Canadian dollar ] [Swiss franc ]  \\\n",
       "0            6.2495             1.5056         1.0883   \n",
       "1            6.2039             1.4913         1.0931   \n",
       "2            6.1611             1.4863         1.0886   \n",
       "3            6.1979             1.5004         1.0845   \n",
       "4            6.1788             1.4951         1.0887   \n",
       "\n",
       "  [Chinese yuan renminbi ] [Cypriot pound ] [Czech koruna ] [Danish krone ]  \\\n",
       "0                   7.5726              NaN          25.432          7.4359   \n",
       "1                   7.6044              NaN          25.296          7.4360   \n",
       "2                   7.5849              NaN          25.281          7.4360   \n",
       "3                   7.6069              NaN          25.318          7.4361   \n",
       "4                   7.6168              NaN          25.389          7.4361   \n",
       "\n",
       "  [Algerian dinar ] [Estonian kroon ] [UK pound sterling ] [Greek drachma ]  \\\n",
       "0               NaN               NaN              0.85705              NaN   \n",
       "1               NaN               NaN              0.85363              NaN   \n",
       "2               NaN               NaN              0.85025              NaN   \n",
       "3               NaN               NaN              0.85510              NaN   \n",
       "4               NaN               NaN              0.85260              NaN   \n",
       "\n",
       "  [Hong Kong dollar ] [Croatian kuna ] [Hungarian forint ]  \\\n",
       "0              9.1188           7.5055              353.97   \n",
       "1              9.1691           7.5092              351.49   \n",
       "2              9.1575           7.5041              350.19   \n",
       "3              9.2021           7.4838              348.86   \n",
       "4              9.1899           7.4760              350.05   \n",
       "\n",
       "  [Indonesian rupiah ] [Israeli shekel ] [Indian rupee ]  [Iceland krona ]  \\\n",
       "0             16742.86            3.7635         86.2720             152.0   \n",
       "1             16762.90            3.7752         86.5335             151.4   \n",
       "2             16766.34            3.7742         86.4730             151.2   \n",
       "3             16826.33            3.7881         86.8625             151.2   \n",
       "4             16857.27            3.7968         87.0370             151.2   \n",
       "\n",
       "  [Japanese yen ] [Korean won ] [Lithuanian litas ] [Latvian lats ]  \\\n",
       "0          128.18       1393.32                 NaN             NaN   \n",
       "1          129.61       1386.26                 NaN             NaN   \n",
       "2          128.67       1380.44                 NaN             NaN   \n",
       "3          129.11       1380.77                 NaN             NaN   \n",
       "4          130.08       1382.66                 NaN             NaN   \n",
       "\n",
       "  [Moroccan dirham ] [Maltese lira ] [Mexican peso ] [Malaysian ringgit ]  \\\n",
       "0                NaN             NaN         23.6419               4.9098   \n",
       "1                NaN             NaN         23.4722               4.9140   \n",
       "2                NaN             NaN         23.3728               4.8952   \n",
       "3                NaN             NaN         23.4927               4.9170   \n",
       "4                NaN             NaN         23.5067               4.9170   \n",
       "\n",
       "  [Norwegian krone ] [New Zealand dollar ] [Philippine peso ] [Polish zloty ]  \\\n",
       "0            10.2430                1.6694             58.845          4.5997   \n",
       "1            10.1208                1.6658             58.819          4.5804   \n",
       "2            10.1293                1.6548             58.715          4.5763   \n",
       "3            10.1418                1.6666             58.742          4.5501   \n",
       "4            10.1745                1.6625             58.868          4.5542   \n",
       "\n",
       "   [Romanian leu ] [Russian rouble ] [Swedish krona ] [Singapore dollar ]  \\\n",
       "0           4.9493           86.0700          10.2173              1.5839   \n",
       "1           4.9488           85.4338          10.1553              1.5851   \n",
       "2           4.9488           85.2347          10.1518              1.5805   \n",
       "3           4.9485           85.9738          10.1360              1.5860   \n",
       "4           4.9485           86.1062          10.1453              1.5870   \n",
       "\n",
       "  [Slovenian tolar ] [Slovak koruna ] [Thai baht ]  [Turkish lira ]  \\\n",
       "0                NaN              NaN      39.0620          10.1512   \n",
       "1                NaN              NaN      39.1450          10.1323   \n",
       "2                NaN              NaN      38.9180           9.9663   \n",
       "3                NaN              NaN      38.8650           9.9769   \n",
       "4                NaN              NaN      38.9270           9.9848   \n",
       "\n",
       "  [New Taiwan dollar ] [US dollar ] [South African rand ]  \n",
       "0                  NaN       1.1711               17.3301  \n",
       "1                  NaN       1.1780               17.1891  \n",
       "2                  NaN       1.1763               17.0544  \n",
       "3                  NaN       1.1824               16.8973  \n",
       "4                  NaN       1.1814               16.8097  "
      ]
     },
     "execution_count": 5,
     "metadata": {},
     "output_type": "execute_result"
    }
   ],
   "source": [
    "exchange_rates.head()"
   ]
  },
  {
   "cell_type": "code",
   "execution_count": 6,
   "id": "651c6896",
   "metadata": {},
   "outputs": [
    {
     "data": {
      "text/plain": [
       "Period\\Unit:                   0\n",
       "[Argentine peso ]            495\n",
       "[Australian dollar ]           0\n",
       "[Bulgarian lev ]             402\n",
       "[Brazilian real ]            268\n",
       "[Canadian dollar ]             0\n",
       "[Swiss franc ]                 0\n",
       "[Chinese yuan renminbi ]     268\n",
       "[Cypriot pound ]            3532\n",
       "[Czech koruna ]                0\n",
       "[Danish krone ]                0\n",
       "[Algerian dinar ]            495\n",
       "[Estonian kroon ]           2748\n",
       "[UK pound sterling ]           0\n",
       "[Greek drachma ]            5358\n",
       "[Hong Kong dollar ]            0\n",
       "[Croatian kuna ]             268\n",
       "[Hungarian forint ]            0\n",
       "[Indonesian rupiah ]           0\n",
       "[Israeli shekel ]            268\n",
       "[Indian rupee ]              268\n",
       "[Iceland krona ]            2407\n",
       "[Japanese yen ]                0\n",
       "[Korean won ]                  0\n",
       "[Lithuanian litas ]         1719\n",
       "[Latvian lats ]             1974\n",
       "[Moroccan dirham ]           495\n",
       "[Maltese lira ]             3532\n",
       "[Mexican peso ]                0\n",
       "[Malaysian ringgit ]           0\n",
       "[Norwegian krone ]             0\n",
       "[New Zealand dollar ]          0\n",
       "[Philippine peso ]             0\n",
       "[Polish zloty ]                0\n",
       "[Romanian leu ]               62\n",
       "[Russian rouble ]              0\n",
       "[Swedish krona ]               0\n",
       "[Singapore dollar ]            0\n",
       "[Slovenian tolar ]          3793\n",
       "[Slovak koruna ]            3270\n",
       "[Thai baht ]                   0\n",
       "[Turkish lira ]               62\n",
       "[New Taiwan dollar ]         495\n",
       "[US dollar ]                   0\n",
       "[South African rand ]          0\n",
       "dtype: int64"
      ]
     },
     "execution_count": 6,
     "metadata": {},
     "output_type": "execute_result"
    }
   ],
   "source": [
    "exchange_rates.isnull().sum()"
   ]
  },
  {
   "cell_type": "code",
   "execution_count": 7,
   "id": "a9d85997",
   "metadata": {},
   "outputs": [],
   "source": [
    "exchange_rates.rename(columns={'Period\\\\Unit:':'Time','[US dollar ]':'US_dollar','[UK pound sterling ]':'UK_pound'}, inplace =True)\n"
   ]
  },
  {
   "cell_type": "code",
   "execution_count": 8,
   "id": "7d0ee5a2",
   "metadata": {},
   "outputs": [],
   "source": [
    "exchange_rates['Time'] = pd.to_datetime(exchange_rates['Time'])"
   ]
  },
  {
   "cell_type": "code",
   "execution_count": 9,
   "id": "5ab7b048",
   "metadata": {},
   "outputs": [
    {
     "name": "stdout",
     "output_type": "stream",
     "text": [
      "<class 'pandas.core.frame.DataFrame'>\n",
      "RangeIndex: 5878 entries, 0 to 5877\n",
      "Data columns (total 45 columns):\n",
      " #   Column                    Non-Null Count  Dtype         \n",
      "---  ------                    --------------  -----         \n",
      " 0   Time                      5878 non-null   datetime64[ns]\n",
      " 1   [Argentine peso ]         5383 non-null   object        \n",
      " 2   [Australian dollar ]      5878 non-null   object        \n",
      " 3   [Bulgarian lev ]          5476 non-null   object        \n",
      " 4   [Brazilian real ]         5610 non-null   object        \n",
      " 5   [Canadian dollar ]        5878 non-null   object        \n",
      " 6   [Swiss franc ]            5878 non-null   object        \n",
      " 7   [Chinese yuan renminbi ]  5610 non-null   object        \n",
      " 8   [Cypriot pound ]          2346 non-null   object        \n",
      " 9   [Czech koruna ]           5878 non-null   object        \n",
      " 10  [Danish krone ]           5878 non-null   object        \n",
      " 11  [Algerian dinar ]         5383 non-null   object        \n",
      " 12  [Estonian kroon ]         3130 non-null   object        \n",
      " 13  UK_pound                  5878 non-null   object        \n",
      " 14  [Greek drachma ]          520 non-null    object        \n",
      " 15  [Hong Kong dollar ]       5878 non-null   object        \n",
      " 16  [Croatian kuna ]          5610 non-null   object        \n",
      " 17  [Hungarian forint ]       5878 non-null   object        \n",
      " 18  [Indonesian rupiah ]      5878 non-null   object        \n",
      " 19  [Israeli shekel ]         5610 non-null   object        \n",
      " 20  [Indian rupee ]           5610 non-null   object        \n",
      " 21  [Iceland krona ]          3471 non-null   float64       \n",
      " 22  [Japanese yen ]           5878 non-null   object        \n",
      " 23  [Korean won ]             5878 non-null   object        \n",
      " 24  [Lithuanian litas ]       4159 non-null   object        \n",
      " 25  [Latvian lats ]           3904 non-null   object        \n",
      " 26  [Moroccan dirham ]        5383 non-null   object        \n",
      " 27  [Maltese lira ]           2346 non-null   object        \n",
      " 28  [Mexican peso ]           5878 non-null   object        \n",
      " 29  [Malaysian ringgit ]      5878 non-null   object        \n",
      " 30  [Norwegian krone ]        5878 non-null   object        \n",
      " 31  [New Zealand dollar ]     5878 non-null   object        \n",
      " 32  [Philippine peso ]        5878 non-null   object        \n",
      " 33  [Polish zloty ]           5878 non-null   object        \n",
      " 34  [Romanian leu ]           5816 non-null   float64       \n",
      " 35  [Russian rouble ]         5878 non-null   object        \n",
      " 36  [Swedish krona ]          5878 non-null   object        \n",
      " 37  [Singapore dollar ]       5878 non-null   object        \n",
      " 38  [Slovenian tolar ]        2085 non-null   object        \n",
      " 39  [Slovak koruna ]          2608 non-null   object        \n",
      " 40  [Thai baht ]              5878 non-null   object        \n",
      " 41  [Turkish lira ]           5816 non-null   float64       \n",
      " 42  [New Taiwan dollar ]      5383 non-null   object        \n",
      " 43  US_dollar                 5878 non-null   object        \n",
      " 44  [South African rand ]     5878 non-null   object        \n",
      "dtypes: datetime64[ns](1), float64(3), object(41)\n",
      "memory usage: 2.0+ MB\n"
     ]
    }
   ],
   "source": [
    "exchange_rates.info()"
   ]
  },
  {
   "cell_type": "code",
   "execution_count": 10,
   "id": "46c20365",
   "metadata": {},
   "outputs": [
    {
     "name": "stdout",
     "output_type": "stream",
     "text": [
      "\u001b[1mNumber of rows:\u001b[0m5878\n",
      "\u001b[1mNumber of columns:\u001b[0m45\n"
     ]
    }
   ],
   "source": [
    "print(f'\\033[1mNumber of rows:\\033[0m{exchange_rates.shape[0]}\\n'  #\\033[1m: in dam, \\033[0m: in thuong\n",
    "     f'\\033[1mNumber of columns:\\033[0m{exchange_rates.shape[1]}')"
   ]
  },
  {
   "cell_type": "code",
   "execution_count": 11,
   "id": "0bab0416",
   "metadata": {},
   "outputs": [],
   "source": [
    "euro_usa = exchange_rates[['Time','US_dollar']]\n",
    "euro_gdp = exchange_rates[['Time','UK_pound']]"
   ]
  },
  {
   "cell_type": "code",
   "execution_count": 12,
   "id": "a303fd82",
   "metadata": {},
   "outputs": [
    {
     "name": "stdout",
     "output_type": "stream",
     "text": [
      "<class 'pandas.core.frame.DataFrame'>\n",
      "RangeIndex: 5878 entries, 0 to 5877\n",
      "Data columns (total 2 columns):\n",
      " #   Column     Non-Null Count  Dtype         \n",
      "---  ------     --------------  -----         \n",
      " 0   Time       5878 non-null   datetime64[ns]\n",
      " 1   US_dollar  5878 non-null   object        \n",
      "dtypes: datetime64[ns](1), object(1)\n",
      "memory usage: 92.0+ KB\n"
     ]
    }
   ],
   "source": [
    "euro_usa.info()"
   ]
  },
  {
   "cell_type": "code",
   "execution_count": 13,
   "id": "e2ad74ea",
   "metadata": {},
   "outputs": [
    {
     "data": {
      "text/plain": [
       "count     5878\n",
       "unique    3576\n",
       "top          -\n",
       "freq        62\n",
       "Name: US_dollar, dtype: object"
      ]
     },
     "execution_count": 13,
     "metadata": {},
     "output_type": "execute_result"
    }
   ],
   "source": [
    "euro_usa['US_dollar'].describe()"
   ]
  },
  {
   "cell_type": "code",
   "execution_count": 14,
   "id": "c85352f0",
   "metadata": {},
   "outputs": [
    {
     "data": {
      "text/plain": [
       "-         62\n",
       "1.2276     9\n",
       "1.1215     8\n",
       "1.1305     7\n",
       "1.3086     6\n",
       "          ..\n",
       "1.2564     1\n",
       "1.4217     1\n",
       "1.3332     1\n",
       "1.1369     1\n",
       "0.8839     1\n",
       "Name: US_dollar, Length: 3576, dtype: int64"
      ]
     },
     "execution_count": 14,
     "metadata": {},
     "output_type": "execute_result"
    }
   ],
   "source": [
    "euro_usa['US_dollar'].value_counts(dropna=False)"
   ]
  },
  {
   "cell_type": "code",
   "execution_count": 15,
   "id": "53e3655f",
   "metadata": {},
   "outputs": [
    {
     "data": {
      "text/html": [
       "<div>\n",
       "<style scoped>\n",
       "    .dataframe tbody tr th:only-of-type {\n",
       "        vertical-align: middle;\n",
       "    }\n",
       "\n",
       "    .dataframe tbody tr th {\n",
       "        vertical-align: top;\n",
       "    }\n",
       "\n",
       "    .dataframe thead th {\n",
       "        text-align: right;\n",
       "    }\n",
       "</style>\n",
       "<table border=\"1\" class=\"dataframe\">\n",
       "  <thead>\n",
       "    <tr style=\"text-align: right;\">\n",
       "      <th></th>\n",
       "      <th>Time</th>\n",
       "      <th>US_dollar</th>\n",
       "    </tr>\n",
       "  </thead>\n",
       "  <tbody>\n",
       "    <tr>\n",
       "      <th>2401</th>\n",
       "      <td>2012-05-01</td>\n",
       "      <td>-</td>\n",
       "    </tr>\n",
       "    <tr>\n",
       "      <th>2417</th>\n",
       "      <td>2012-04-09</td>\n",
       "      <td>-</td>\n",
       "    </tr>\n",
       "    <tr>\n",
       "      <th>2418</th>\n",
       "      <td>2012-04-06</td>\n",
       "      <td>-</td>\n",
       "    </tr>\n",
       "    <tr>\n",
       "      <th>2492</th>\n",
       "      <td>2011-12-26</td>\n",
       "      <td>-</td>\n",
       "    </tr>\n",
       "    <tr>\n",
       "      <th>2667</th>\n",
       "      <td>2011-04-25</td>\n",
       "      <td>-</td>\n",
       "    </tr>\n",
       "  </tbody>\n",
       "</table>\n",
       "</div>"
      ],
      "text/plain": [
       "           Time US_dollar\n",
       "2401 2012-05-01         -\n",
       "2417 2012-04-09         -\n",
       "2418 2012-04-06         -\n",
       "2492 2011-12-26         -\n",
       "2667 2011-04-25         -"
      ]
     },
     "execution_count": 15,
     "metadata": {},
     "output_type": "execute_result"
    }
   ],
   "source": [
    "euro_usa[euro_usa['US_dollar']=='-'].head()"
   ]
  },
  {
   "cell_type": "code",
   "execution_count": 16,
   "id": "979b09e9",
   "metadata": {},
   "outputs": [
    {
     "data": {
      "text/plain": [
       "-          62\n",
       "0.63040     7\n",
       "0.87750     7\n",
       "0.90430     7\n",
       "0.68880     7\n",
       "           ..\n",
       "0.65190     1\n",
       "0.86770     1\n",
       "0.89840     1\n",
       "0.90160     1\n",
       "0.84175     1\n",
       "Name: UK_pound, Length: 3567, dtype: int64"
      ]
     },
     "execution_count": 16,
     "metadata": {},
     "output_type": "execute_result"
    }
   ],
   "source": [
    "euro_gdp['UK_pound'].value_counts(dropna=False)"
   ]
  },
  {
   "cell_type": "code",
   "execution_count": 17,
   "id": "363f2f94",
   "metadata": {},
   "outputs": [],
   "source": [
    "euro_usa=euro_usa[euro_usa['US_dollar']!='-']\n",
    "euro_usa['US_dollar']=euro_usa['US_dollar'].astype(float)\n"
   ]
  },
  {
   "cell_type": "code",
   "execution_count": 18,
   "id": "99277a95",
   "metadata": {},
   "outputs": [
    {
     "data": {
      "text/plain": [
       "(1.057, 1.135]    1141\n",
       "(1.289, 1.367]    1046\n",
       "(1.135, 1.212]     998\n",
       "(1.212, 1.289]     905\n",
       "(1.367, 1.444]     476\n",
       "(0.823, 0.903]     333\n",
       "(0.903, 0.98]      302\n",
       "(0.98, 1.057]      292\n",
       "(1.444, 1.522]     215\n",
       "(1.522, 1.599]     108\n",
       "Name: US_dollar, dtype: int64"
      ]
     },
     "execution_count": 18,
     "metadata": {},
     "output_type": "execute_result"
    }
   ],
   "source": [
    "euro_usa['US_dollar'].value_counts(bins=10)"
   ]
  },
  {
   "cell_type": "code",
   "execution_count": 19,
   "id": "e8decdf3",
   "metadata": {},
   "outputs": [],
   "source": [
    "euro_gdp=euro_gdp[euro_gdp['UK_pound']!='-']\n",
    "euro_gdp['UK_pound']=euro_gdp['UK_pound'].astype(float)"
   ]
  },
  {
   "cell_type": "code",
   "execution_count": 20,
   "id": "682b30dc",
   "metadata": {},
   "outputs": [
    {
     "data": {
      "text/plain": [
       "(0.856, 0.897]    1324\n",
       "(0.653, 0.693]    1103\n",
       "(0.816, 0.856]     840\n",
       "(0.612, 0.653]     674\n",
       "(0.775, 0.816]     588\n",
       "(0.693, 0.734]     508\n",
       "(0.897, 0.938]     390\n",
       "(0.57, 0.612]      201\n",
       "(0.734, 0.775]     172\n",
       "(0.938, 0.979]      16\n",
       "Name: UK_pound, dtype: int64"
      ]
     },
     "execution_count": 20,
     "metadata": {},
     "output_type": "execute_result"
    }
   ],
   "source": [
    "euro_gdp['UK_pound'].value_counts(bins=10)"
   ]
  },
  {
   "cell_type": "code",
   "execution_count": 23,
   "id": "22cf7464",
   "metadata": {},
   "outputs": [],
   "source": [
    "euro_usa['rolling_mean'] = euro_usa['US_dollar'].rolling(30).mean() #du lieu theo thang"
   ]
  },
  {
   "cell_type": "code",
   "execution_count": 24,
   "id": "0eddd33c",
   "metadata": {},
   "outputs": [
    {
     "data": {
      "text/plain": [
       "0            NaN\n",
       "1            NaN\n",
       "2            NaN\n",
       "3            NaN\n",
       "4            NaN\n",
       "          ...   \n",
       "5873    1.143817\n",
       "5874    1.145150\n",
       "5875    1.146783\n",
       "5876    1.148830\n",
       "5877    1.150667\n",
       "Name: rolling_mean, Length: 5816, dtype: float64"
      ]
     },
     "execution_count": 24,
     "metadata": {},
     "output_type": "execute_result"
    }
   ],
   "source": [
    "euro_usa['rolling_mean']"
   ]
  },
  {
   "cell_type": "code",
   "execution_count": 25,
   "id": "caa8231a",
   "metadata": {},
   "outputs": [
    {
     "name": "stdout",
     "output_type": "stream",
     "text": [
      "<class 'pandas.core.frame.DataFrame'>\n",
      "Int64Index: 5816 entries, 0 to 5877\n",
      "Data columns (total 4 columns):\n",
      " #   Column        Non-Null Count  Dtype         \n",
      "---  ------        --------------  -----         \n",
      " 0   Time          5816 non-null   datetime64[ns]\n",
      " 1   US_dollar     5816 non-null   float64       \n",
      " 2   rolling-mean  5787 non-null   float64       \n",
      " 3   rolling_mean  5787 non-null   float64       \n",
      "dtypes: datetime64[ns](1), float64(3)\n",
      "memory usage: 227.2 KB\n"
     ]
    }
   ],
   "source": [
    "euro_usa.info()"
   ]
  },
  {
   "cell_type": "markdown",
   "id": "358b60c9",
   "metadata": {},
   "source": [
    "Now we will plot 2 graphs: EUR-USD exchange rate evolution with and without smoothing to see the difference. "
   ]
  },
  {
   "cell_type": "code",
   "execution_count": 36,
   "id": "f0bddf6f",
   "metadata": {},
   "outputs": [],
   "source": [
    "columns = ['US_dollar','rolling_mean']\n",
    "titles = ['EUR-USD exchange rate evolution \\nwithout rolling mean','EUR-USA exchange rate evolution \\nwith rolling mean']\n",
    "def create_line(df,title,xlabel='Month',column='rolling_mean',title_font=25,label_font=20,tick_font=14,x_min='1999-01-01',x_max='2021-09-20',y_min=None,y_max=None):\n",
    "    plt.plot(df['Time'],df[column],color='BLue')\n",
    "    plt.title(title, fontsize = title_font)\n",
    "    plt.xlabel(xlabel, fontsize = label_font)\n",
    "    plt.ylabel('Exchange rate', fontsize = label_font)\n",
    "    plt.xticks(fontsize = tick_font)\n",
    "    plt.yticks(fontsize = tick_font)\n",
    "    plt.xlim(x_min, x_max)\n",
    "    plt.ylim(y_min, y_max)\n",
    "    sns.despine"
   ]
  },
  {
   "cell_type": "code",
   "execution_count": 1,
   "id": "cdb4ef9e",
   "metadata": {},
   "outputs": [
    {
     "ename": "NameError",
     "evalue": "name 'plt' is not defined",
     "output_type": "error",
     "traceback": [
      "\u001b[1;31m---------------------------------------------------------------------------\u001b[0m",
      "\u001b[1;31mNameError\u001b[0m                                 Traceback (most recent call last)",
      "\u001b[1;32m<ipython-input-1-5c0028d1cee6>\u001b[0m in \u001b[0;36m<module>\u001b[1;34m\u001b[0m\n\u001b[1;32m----> 1\u001b[1;33m \u001b[0mplt\u001b[0m\u001b[1;33m.\u001b[0m\u001b[0mfigure\u001b[0m\u001b[1;33m(\u001b[0m\u001b[0mfigsize\u001b[0m\u001b[1;33m=\u001b[0m\u001b[1;33m(\u001b[0m\u001b[1;36m12\u001b[0m\u001b[1;33m,\u001b[0m\u001b[1;36m5\u001b[0m\u001b[1;33m)\u001b[0m\u001b[1;33m)\u001b[0m\u001b[1;33m\u001b[0m\u001b[1;33m\u001b[0m\u001b[0m\n\u001b[0m\u001b[0;32m      2\u001b[0m \u001b[1;32mfor\u001b[0m \u001b[0mi\u001b[0m \u001b[1;32min\u001b[0m \u001b[0mrange\u001b[0m\u001b[1;33m(\u001b[0m\u001b[1;36m1\u001b[0m\u001b[1;33m,\u001b[0m\u001b[1;36m3\u001b[0m\u001b[1;33m)\u001b[0m\u001b[1;33m:\u001b[0m\u001b[1;33m\u001b[0m\u001b[1;33m\u001b[0m\u001b[0m\n\u001b[0;32m      3\u001b[0m     \u001b[0mplt\u001b[0m\u001b[1;33m.\u001b[0m\u001b[0msubplot\u001b[0m\u001b[1;33m(\u001b[0m\u001b[1;36m1\u001b[0m\u001b[1;33m,\u001b[0m\u001b[1;36m2\u001b[0m\u001b[1;33m,\u001b[0m\u001b[0mi\u001b[0m\u001b[1;33m)\u001b[0m\u001b[1;33m\u001b[0m\u001b[1;33m\u001b[0m\u001b[0m\n\u001b[0;32m      4\u001b[0m     \u001b[0mcreate_line\u001b[0m\u001b[1;33m(\u001b[0m\u001b[0mdf\u001b[0m\u001b[1;33m=\u001b[0m\u001b[0meuro_usa\u001b[0m\u001b[1;33m,\u001b[0m \u001b[0mtitle\u001b[0m\u001b[1;33m=\u001b[0m\u001b[0mtitles\u001b[0m\u001b[1;33m[\u001b[0m\u001b[0mi\u001b[0m\u001b[1;33m-\u001b[0m\u001b[1;36m1\u001b[0m\u001b[1;33m]\u001b[0m\u001b[1;33m,\u001b[0m\u001b[0mcolumn\u001b[0m\u001b[1;33m=\u001b[0m\u001b[0mcolumns\u001b[0m\u001b[1;33m[\u001b[0m\u001b[0mi\u001b[0m\u001b[1;33m-\u001b[0m\u001b[1;36m1\u001b[0m\u001b[1;33m]\u001b[0m\u001b[1;33m,\u001b[0m\u001b[0mtitle_font\u001b[0m\u001b[1;33m=\u001b[0m\u001b[1;36m18\u001b[0m\u001b[1;33m,\u001b[0m\u001b[0mlabel_font\u001b[0m\u001b[1;33m=\u001b[0m\u001b[1;36m14\u001b[0m\u001b[1;33m,\u001b[0m\u001b[0mtick_font\u001b[0m\u001b[1;33m=\u001b[0m\u001b[1;32mNone\u001b[0m\u001b[1;33m,\u001b[0m\u001b[0my_min\u001b[0m\u001b[1;33m=\u001b[0m\u001b[1;36m0.75\u001b[0m\u001b[1;33m,\u001b[0m\u001b[0my_max\u001b[0m\u001b[1;33m=\u001b[0m\u001b[1;36m2\u001b[0m\u001b[1;33m)\u001b[0m\u001b[1;33m\u001b[0m\u001b[1;33m\u001b[0m\u001b[0m\n",
      "\u001b[1;31mNameError\u001b[0m: name 'plt' is not defined"
     ]
    }
   ],
   "source": [
    "plt.figure(figsize=(12,5))\n",
    "for i in range(1,3):\n",
    "    plt.subplot(1,2,i)\n",
    "    create_line(df=euro_usa, title=titles[i-1],column=columns[i-1],title_font=18,label_font=14,tick_font=None,y_min=0.75,y_max=2)"
   ]
  },
  {
   "cell_type": "code",
   "execution_count": 39,
   "id": "7b59ba78",
   "metadata": {},
   "outputs": [],
   "source": [
    "columns_uk = ['UK_pound','rolling_mean']\n",
    "titles_uk = ['EUR-GDP exchange rate evolution \\nwithout rolling mean','EUR-GDP exchange rate evolution \\nwith rolling mean']"
   ]
  },
  {
   "cell_type": "code",
   "execution_count": 40,
   "id": "5983e640",
   "metadata": {},
   "outputs": [],
   "source": [
    "euro_gdp['rolling_mean'] = euro_gdp['UK_pound'].rolling(30).mean() #du lieu theo thang"
   ]
  },
  {
   "cell_type": "code",
   "execution_count": 35,
   "id": "ae110208",
   "metadata": {},
   "outputs": [
    {
     "ename": "ConversionError",
     "evalue": "Failed to convert value(s) to axis units: '1999-01-01'",
     "output_type": "error",
     "traceback": [
      "\u001b[1;31m---------------------------------------------------------------------------\u001b[0m",
      "\u001b[1;31mIndexError\u001b[0m                                Traceback (most recent call last)",
      "\u001b[1;32m~\\anaconda3\\lib\\site-packages\\matplotlib\\axis.py\u001b[0m in \u001b[0;36mconvert_units\u001b[1;34m(self, x)\u001b[0m\n\u001b[0;32m   1522\u001b[0m         \u001b[1;32mtry\u001b[0m\u001b[1;33m:\u001b[0m\u001b[1;33m\u001b[0m\u001b[1;33m\u001b[0m\u001b[0m\n\u001b[1;32m-> 1523\u001b[1;33m             \u001b[0mret\u001b[0m \u001b[1;33m=\u001b[0m \u001b[0mself\u001b[0m\u001b[1;33m.\u001b[0m\u001b[0mconverter\u001b[0m\u001b[1;33m.\u001b[0m\u001b[0mconvert\u001b[0m\u001b[1;33m(\u001b[0m\u001b[0mx\u001b[0m\u001b[1;33m,\u001b[0m \u001b[0mself\u001b[0m\u001b[1;33m.\u001b[0m\u001b[0munits\u001b[0m\u001b[1;33m,\u001b[0m \u001b[0mself\u001b[0m\u001b[1;33m)\u001b[0m\u001b[1;33m\u001b[0m\u001b[1;33m\u001b[0m\u001b[0m\n\u001b[0m\u001b[0;32m   1524\u001b[0m         \u001b[1;32mexcept\u001b[0m \u001b[0mException\u001b[0m \u001b[1;32mas\u001b[0m \u001b[0me\u001b[0m\u001b[1;33m:\u001b[0m\u001b[1;33m\u001b[0m\u001b[1;33m\u001b[0m\u001b[0m\n",
      "\u001b[1;32m~\\anaconda3\\lib\\site-packages\\matplotlib\\dates.py\u001b[0m in \u001b[0;36mconvert\u001b[1;34m(value, unit, axis)\u001b[0m\n\u001b[0;32m   1895\u001b[0m         \"\"\"\n\u001b[1;32m-> 1896\u001b[1;33m         \u001b[1;32mreturn\u001b[0m \u001b[0mdate2num\u001b[0m\u001b[1;33m(\u001b[0m\u001b[0mvalue\u001b[0m\u001b[1;33m)\u001b[0m\u001b[1;33m\u001b[0m\u001b[1;33m\u001b[0m\u001b[0m\n\u001b[0m\u001b[0;32m   1897\u001b[0m \u001b[1;33m\u001b[0m\u001b[0m\n",
      "\u001b[1;32m~\\anaconda3\\lib\\site-packages\\matplotlib\\dates.py\u001b[0m in \u001b[0;36mdate2num\u001b[1;34m(d)\u001b[0m\n\u001b[0;32m    424\u001b[0m             \u001b[1;32mreturn\u001b[0m \u001b[0md\u001b[0m\u001b[1;33m\u001b[0m\u001b[1;33m\u001b[0m\u001b[0m\n\u001b[1;32m--> 425\u001b[1;33m         \u001b[0mtzi\u001b[0m \u001b[1;33m=\u001b[0m \u001b[0mgetattr\u001b[0m\u001b[1;33m(\u001b[0m\u001b[0md\u001b[0m\u001b[1;33m[\u001b[0m\u001b[1;36m0\u001b[0m\u001b[1;33m]\u001b[0m\u001b[1;33m,\u001b[0m \u001b[1;34m'tzinfo'\u001b[0m\u001b[1;33m,\u001b[0m \u001b[1;32mNone\u001b[0m\u001b[1;33m)\u001b[0m\u001b[1;33m\u001b[0m\u001b[1;33m\u001b[0m\u001b[0m\n\u001b[0m\u001b[0;32m    426\u001b[0m         \u001b[1;32mif\u001b[0m \u001b[0mtzi\u001b[0m \u001b[1;32mis\u001b[0m \u001b[1;32mnot\u001b[0m \u001b[1;32mNone\u001b[0m\u001b[1;33m:\u001b[0m\u001b[1;33m\u001b[0m\u001b[1;33m\u001b[0m\u001b[0m\n",
      "\u001b[1;31mIndexError\u001b[0m: too many indices for array: array is 0-dimensional, but 1 were indexed",
      "\nThe above exception was the direct cause of the following exception:\n",
      "\u001b[1;31mConversionError\u001b[0m                           Traceback (most recent call last)",
      "\u001b[1;32m<ipython-input-35-5d19f8dec504>\u001b[0m in \u001b[0;36m<module>\u001b[1;34m\u001b[0m\n\u001b[0;32m      2\u001b[0m \u001b[1;32mfor\u001b[0m \u001b[0mi\u001b[0m \u001b[1;32min\u001b[0m \u001b[0mrange\u001b[0m\u001b[1;33m(\u001b[0m\u001b[1;36m1\u001b[0m\u001b[1;33m,\u001b[0m\u001b[1;36m3\u001b[0m\u001b[1;33m)\u001b[0m\u001b[1;33m:\u001b[0m\u001b[1;33m\u001b[0m\u001b[1;33m\u001b[0m\u001b[0m\n\u001b[0;32m      3\u001b[0m     \u001b[0mplt\u001b[0m\u001b[1;33m.\u001b[0m\u001b[0msubplot\u001b[0m\u001b[1;33m(\u001b[0m\u001b[1;36m1\u001b[0m\u001b[1;33m,\u001b[0m\u001b[1;36m2\u001b[0m\u001b[1;33m,\u001b[0m\u001b[0mi\u001b[0m\u001b[1;33m)\u001b[0m\u001b[1;33m\u001b[0m\u001b[1;33m\u001b[0m\u001b[0m\n\u001b[1;32m----> 4\u001b[1;33m     \u001b[0mcreate_line\u001b[0m\u001b[1;33m(\u001b[0m\u001b[0mdf\u001b[0m\u001b[1;33m=\u001b[0m\u001b[0meuro_gdp\u001b[0m\u001b[1;33m,\u001b[0m \u001b[0mtitle\u001b[0m\u001b[1;33m=\u001b[0m\u001b[0mtitles\u001b[0m\u001b[1;33m[\u001b[0m\u001b[0mi\u001b[0m\u001b[1;33m-\u001b[0m\u001b[1;36m1\u001b[0m\u001b[1;33m]\u001b[0m\u001b[1;33m,\u001b[0m\u001b[0mcolumn\u001b[0m\u001b[1;33m=\u001b[0m\u001b[0mcolumns\u001b[0m\u001b[1;33m[\u001b[0m\u001b[0mi\u001b[0m\u001b[1;33m-\u001b[0m\u001b[1;36m1\u001b[0m\u001b[1;33m]\u001b[0m\u001b[1;33m,\u001b[0m\u001b[0mtitle_font\u001b[0m\u001b[1;33m=\u001b[0m\u001b[1;36m18\u001b[0m\u001b[1;33m,\u001b[0m\u001b[0mlabel_font\u001b[0m\u001b[1;33m=\u001b[0m\u001b[1;36m14\u001b[0m\u001b[1;33m,\u001b[0m\u001b[0mtick_font\u001b[0m\u001b[1;33m=\u001b[0m\u001b[1;32mNone\u001b[0m\u001b[1;33m,\u001b[0m\u001b[0my_min\u001b[0m\u001b[1;33m=\u001b[0m\u001b[1;36m0.75\u001b[0m\u001b[1;33m,\u001b[0m\u001b[0my_max\u001b[0m\u001b[1;33m=\u001b[0m\u001b[1;36m2\u001b[0m\u001b[1;33m)\u001b[0m\u001b[1;33m\u001b[0m\u001b[1;33m\u001b[0m\u001b[0m\n\u001b[0m",
      "\u001b[1;32m<ipython-input-29-3ab65041cd20>\u001b[0m in \u001b[0;36mcreate_line\u001b[1;34m(df, title, xlabel, column, title_font, label_font, tick_font, x_min, x_max, y_min, y_max)\u001b[0m\n\u001b[0;32m      8\u001b[0m     \u001b[0mplt\u001b[0m\u001b[1;33m.\u001b[0m\u001b[0mxticks\u001b[0m\u001b[1;33m(\u001b[0m\u001b[0mfontsize\u001b[0m \u001b[1;33m=\u001b[0m \u001b[0mtick_font\u001b[0m\u001b[1;33m)\u001b[0m\u001b[1;33m\u001b[0m\u001b[1;33m\u001b[0m\u001b[0m\n\u001b[0;32m      9\u001b[0m     \u001b[0mplt\u001b[0m\u001b[1;33m.\u001b[0m\u001b[0myticks\u001b[0m\u001b[1;33m(\u001b[0m\u001b[0mfontsize\u001b[0m \u001b[1;33m=\u001b[0m \u001b[0mtick_font\u001b[0m\u001b[1;33m)\u001b[0m\u001b[1;33m\u001b[0m\u001b[1;33m\u001b[0m\u001b[0m\n\u001b[1;32m---> 10\u001b[1;33m     \u001b[0mplt\u001b[0m\u001b[1;33m.\u001b[0m\u001b[0mxlim\u001b[0m\u001b[1;33m(\u001b[0m\u001b[0mx_min\u001b[0m\u001b[1;33m,\u001b[0m \u001b[0mx_max\u001b[0m\u001b[1;33m)\u001b[0m\u001b[1;33m\u001b[0m\u001b[1;33m\u001b[0m\u001b[0m\n\u001b[0m\u001b[0;32m     11\u001b[0m     \u001b[0mplt\u001b[0m\u001b[1;33m.\u001b[0m\u001b[0mylim\u001b[0m\u001b[1;33m(\u001b[0m\u001b[0my_min\u001b[0m\u001b[1;33m,\u001b[0m \u001b[0my_max\u001b[0m\u001b[1;33m)\u001b[0m\u001b[1;33m\u001b[0m\u001b[1;33m\u001b[0m\u001b[0m\n\u001b[0;32m     12\u001b[0m     \u001b[0msns\u001b[0m\u001b[1;33m.\u001b[0m\u001b[0mdespine\u001b[0m\u001b[1;33m\u001b[0m\u001b[1;33m\u001b[0m\u001b[0m\n",
      "\u001b[1;32m~\\anaconda3\\lib\\site-packages\\matplotlib\\pyplot.py\u001b[0m in \u001b[0;36mxlim\u001b[1;34m(*args, **kwargs)\u001b[0m\n\u001b[0;32m   1563\u001b[0m     \u001b[1;32mif\u001b[0m \u001b[1;32mnot\u001b[0m \u001b[0margs\u001b[0m \u001b[1;32mand\u001b[0m \u001b[1;32mnot\u001b[0m \u001b[0mkwargs\u001b[0m\u001b[1;33m:\u001b[0m\u001b[1;33m\u001b[0m\u001b[1;33m\u001b[0m\u001b[0m\n\u001b[0;32m   1564\u001b[0m         \u001b[1;32mreturn\u001b[0m \u001b[0max\u001b[0m\u001b[1;33m.\u001b[0m\u001b[0mget_xlim\u001b[0m\u001b[1;33m(\u001b[0m\u001b[1;33m)\u001b[0m\u001b[1;33m\u001b[0m\u001b[1;33m\u001b[0m\u001b[0m\n\u001b[1;32m-> 1565\u001b[1;33m     \u001b[0mret\u001b[0m \u001b[1;33m=\u001b[0m \u001b[0max\u001b[0m\u001b[1;33m.\u001b[0m\u001b[0mset_xlim\u001b[0m\u001b[1;33m(\u001b[0m\u001b[1;33m*\u001b[0m\u001b[0margs\u001b[0m\u001b[1;33m,\u001b[0m \u001b[1;33m**\u001b[0m\u001b[0mkwargs\u001b[0m\u001b[1;33m)\u001b[0m\u001b[1;33m\u001b[0m\u001b[1;33m\u001b[0m\u001b[0m\n\u001b[0m\u001b[0;32m   1566\u001b[0m     \u001b[1;32mreturn\u001b[0m \u001b[0mret\u001b[0m\u001b[1;33m\u001b[0m\u001b[1;33m\u001b[0m\u001b[0m\n\u001b[0;32m   1567\u001b[0m \u001b[1;33m\u001b[0m\u001b[0m\n",
      "\u001b[1;32m~\\anaconda3\\lib\\site-packages\\matplotlib\\axes\\_base.py\u001b[0m in \u001b[0;36mset_xlim\u001b[1;34m(self, left, right, emit, auto, xmin, xmax)\u001b[0m\n\u001b[0;32m   3292\u001b[0m \u001b[1;33m\u001b[0m\u001b[0m\n\u001b[0;32m   3293\u001b[0m         \u001b[0mself\u001b[0m\u001b[1;33m.\u001b[0m\u001b[0m_process_unit_info\u001b[0m\u001b[1;33m(\u001b[0m\u001b[0mxdata\u001b[0m\u001b[1;33m=\u001b[0m\u001b[1;33m(\u001b[0m\u001b[0mleft\u001b[0m\u001b[1;33m,\u001b[0m \u001b[0mright\u001b[0m\u001b[1;33m)\u001b[0m\u001b[1;33m)\u001b[0m\u001b[1;33m\u001b[0m\u001b[1;33m\u001b[0m\u001b[0m\n\u001b[1;32m-> 3294\u001b[1;33m         \u001b[0mleft\u001b[0m \u001b[1;33m=\u001b[0m \u001b[0mself\u001b[0m\u001b[1;33m.\u001b[0m\u001b[0m_validate_converted_limits\u001b[0m\u001b[1;33m(\u001b[0m\u001b[0mleft\u001b[0m\u001b[1;33m,\u001b[0m \u001b[0mself\u001b[0m\u001b[1;33m.\u001b[0m\u001b[0mconvert_xunits\u001b[0m\u001b[1;33m)\u001b[0m\u001b[1;33m\u001b[0m\u001b[1;33m\u001b[0m\u001b[0m\n\u001b[0m\u001b[0;32m   3295\u001b[0m         \u001b[0mright\u001b[0m \u001b[1;33m=\u001b[0m \u001b[0mself\u001b[0m\u001b[1;33m.\u001b[0m\u001b[0m_validate_converted_limits\u001b[0m\u001b[1;33m(\u001b[0m\u001b[0mright\u001b[0m\u001b[1;33m,\u001b[0m \u001b[0mself\u001b[0m\u001b[1;33m.\u001b[0m\u001b[0mconvert_xunits\u001b[0m\u001b[1;33m)\u001b[0m\u001b[1;33m\u001b[0m\u001b[1;33m\u001b[0m\u001b[0m\n\u001b[0;32m   3296\u001b[0m \u001b[1;33m\u001b[0m\u001b[0m\n",
      "\u001b[1;32m~\\anaconda3\\lib\\site-packages\\matplotlib\\axes\\_base.py\u001b[0m in \u001b[0;36m_validate_converted_limits\u001b[1;34m(self, limit, convert)\u001b[0m\n\u001b[0;32m   3206\u001b[0m         \"\"\"\n\u001b[0;32m   3207\u001b[0m         \u001b[1;32mif\u001b[0m \u001b[0mlimit\u001b[0m \u001b[1;32mis\u001b[0m \u001b[1;32mnot\u001b[0m \u001b[1;32mNone\u001b[0m\u001b[1;33m:\u001b[0m\u001b[1;33m\u001b[0m\u001b[1;33m\u001b[0m\u001b[0m\n\u001b[1;32m-> 3208\u001b[1;33m             \u001b[0mconverted_limit\u001b[0m \u001b[1;33m=\u001b[0m \u001b[0mconvert\u001b[0m\u001b[1;33m(\u001b[0m\u001b[0mlimit\u001b[0m\u001b[1;33m)\u001b[0m\u001b[1;33m\u001b[0m\u001b[1;33m\u001b[0m\u001b[0m\n\u001b[0m\u001b[0;32m   3209\u001b[0m             if (isinstance(converted_limit, Real)\n\u001b[0;32m   3210\u001b[0m                     and not np.isfinite(converted_limit)):\n",
      "\u001b[1;32m~\\anaconda3\\lib\\site-packages\\matplotlib\\artist.py\u001b[0m in \u001b[0;36mconvert_xunits\u001b[1;34m(self, x)\u001b[0m\n\u001b[0;32m    173\u001b[0m         \u001b[1;32mif\u001b[0m \u001b[0max\u001b[0m \u001b[1;32mis\u001b[0m \u001b[1;32mNone\u001b[0m \u001b[1;32mor\u001b[0m \u001b[0max\u001b[0m\u001b[1;33m.\u001b[0m\u001b[0mxaxis\u001b[0m \u001b[1;32mis\u001b[0m \u001b[1;32mNone\u001b[0m\u001b[1;33m:\u001b[0m\u001b[1;33m\u001b[0m\u001b[1;33m\u001b[0m\u001b[0m\n\u001b[0;32m    174\u001b[0m             \u001b[1;32mreturn\u001b[0m \u001b[0mx\u001b[0m\u001b[1;33m\u001b[0m\u001b[1;33m\u001b[0m\u001b[0m\n\u001b[1;32m--> 175\u001b[1;33m         \u001b[1;32mreturn\u001b[0m \u001b[0max\u001b[0m\u001b[1;33m.\u001b[0m\u001b[0mxaxis\u001b[0m\u001b[1;33m.\u001b[0m\u001b[0mconvert_units\u001b[0m\u001b[1;33m(\u001b[0m\u001b[0mx\u001b[0m\u001b[1;33m)\u001b[0m\u001b[1;33m\u001b[0m\u001b[1;33m\u001b[0m\u001b[0m\n\u001b[0m\u001b[0;32m    176\u001b[0m \u001b[1;33m\u001b[0m\u001b[0m\n\u001b[0;32m    177\u001b[0m     \u001b[1;32mdef\u001b[0m \u001b[0mconvert_yunits\u001b[0m\u001b[1;33m(\u001b[0m\u001b[0mself\u001b[0m\u001b[1;33m,\u001b[0m \u001b[0my\u001b[0m\u001b[1;33m)\u001b[0m\u001b[1;33m:\u001b[0m\u001b[1;33m\u001b[0m\u001b[1;33m\u001b[0m\u001b[0m\n",
      "\u001b[1;32m~\\anaconda3\\lib\\site-packages\\matplotlib\\axis.py\u001b[0m in \u001b[0;36mconvert_units\u001b[1;34m(self, x)\u001b[0m\n\u001b[0;32m   1523\u001b[0m             \u001b[0mret\u001b[0m \u001b[1;33m=\u001b[0m \u001b[0mself\u001b[0m\u001b[1;33m.\u001b[0m\u001b[0mconverter\u001b[0m\u001b[1;33m.\u001b[0m\u001b[0mconvert\u001b[0m\u001b[1;33m(\u001b[0m\u001b[0mx\u001b[0m\u001b[1;33m,\u001b[0m \u001b[0mself\u001b[0m\u001b[1;33m.\u001b[0m\u001b[0munits\u001b[0m\u001b[1;33m,\u001b[0m \u001b[0mself\u001b[0m\u001b[1;33m)\u001b[0m\u001b[1;33m\u001b[0m\u001b[1;33m\u001b[0m\u001b[0m\n\u001b[0;32m   1524\u001b[0m         \u001b[1;32mexcept\u001b[0m \u001b[0mException\u001b[0m \u001b[1;32mas\u001b[0m \u001b[0me\u001b[0m\u001b[1;33m:\u001b[0m\u001b[1;33m\u001b[0m\u001b[1;33m\u001b[0m\u001b[0m\n\u001b[1;32m-> 1525\u001b[1;33m             raise munits.ConversionError('Failed to convert value(s) to axis '\n\u001b[0m\u001b[0;32m   1526\u001b[0m                                          f'units: {x!r}') from e\n\u001b[0;32m   1527\u001b[0m         \u001b[1;32mreturn\u001b[0m \u001b[0mret\u001b[0m\u001b[1;33m\u001b[0m\u001b[1;33m\u001b[0m\u001b[0m\n",
      "\u001b[1;31mConversionError\u001b[0m: Failed to convert value(s) to axis units: '1999-01-01'"
     ]
    },
    {
     "data": {
      "image/png": "[encoded data removed]",
      "text/plain": [
       "<Figure size 864x360 with 1 Axes>"
      ]
     },
     "metadata": {
      "needs_background": "light"
     },
     "output_type": "display_data"
    }
   ],
   "source": [
    "plt.figure(figsize=(12,5))\n",
    "for i in range(1,3):\n",
    "    plt.subplot(1,2,i)\n",
    "    create_line(df=euro_gdp, title=titles[i-1],column=columns[i-1],title_font=18,label_font=14,tick_font=None,y_min=0.75,y_max=2)"
   ]
  },
  {
   "cell_type": "code",
   "execution_count": 44,
   "id": "95a0c823",
   "metadata": {},
   "outputs": [],
   "source": [
    "crisis = euro_usa.copy()[(euro_usa['Time'].dt.year >=2006)&(euro_usa['Time'].dt.year <=2009)]\n",
    "crisis_7_8 = euro_usa.copy()[(euro_usa['Time'].dt.year >= 2007)&(euro_usa['Time'].dt.year <= 2008)]"
   ]
  },
  {
   "cell_type": "code",
   "execution_count": 66,
   "id": "9d7997b7",
   "metadata": {},
   "outputs": [
    {
     "name": "stdout",
     "output_type": "stream",
     "text": [
      "13077.05\n",
      "14681.95\n"
     ]
    },
    {
     "data": {
      "text/plain": [
       "<matplotlib.patches.Polygon at 0x1f2a1e530a0>"
      ]
     },
     "execution_count": 66,
     "metadata": {},
     "output_type": "execute_result"
    },
    {
     "data": {
      "image/png": "[encoded data removed]",
      "text/plain": [
       "<Figure size 864x360 with 1 Axes>"
      ]
     },
     "metadata": {},
     "output_type": "display_data"
    }
   ],
   "source": [
    "style.use('fivethirtyeight')\n",
    "fig,ax = plt.subplots(figsize=(12,5))\n",
    "ax.set_ylim(1.05,1.65)\n",
    "ax.plot(crisis['Time'],crisis['rolling_mean'],linewidth=1,color='green')\n",
    "ax.plot(crisis_7_8['Time'],crisis_7_8['rolling_mean'],linewidth=3,color='red')\n",
    "ax.set_xticklabels([])\n",
    "ax.set_yticklabels([])\n",
    "xmin,xmax = plt.xlim()\n",
    "print(xmin)\n",
    "print(xmax)\n",
    "x0 = 13115\n",
    "for year in ['2006','2007','2008','2009','2010']:\n",
    "    ax.text(x0,1.12,year,alpha=0.5,fontsize=12)\n",
    "    x0 += 365\n",
    "y0 = 1.205\n",
    "for rate in ['1.2','1.3','1.4','1.5']:\n",
    "    ax.text(13070,y0,rate,alpha=0.5,fontsize=12)\n",
    "    y0 += 0.1\n",
    "    \n",
    "ax.text(13077,1.65,'EUR-USD rate peaked at 1.59 during 2001-2008\\'s financial crisis', weight='bold')\n",
    "ax.text(13077,1.61,'EUR-USD exchange rate between 2006 and 2009', size = 12)\n",
    "ax.text(13077,1.05,'@DATAQUEST'+' '*170+'Source: European Central Bank',color='#f0f0f0',backgroundcolor='#4d4d4d',size = 10)\n",
    "ax.axvspan(xmin=13857,xmax=14157,ymin=0.2,color='gray',alpha=0.3)"
   ]
  },
  {
   "cell_type": "code",
   "execution_count": 69,
   "id": "4d376957",
   "metadata": {},
   "outputs": [],
   "source": [
    "bush_obama_trump = euro_usa.copy()[(euro_usa['Time'].dt.year>=2001)&(euro_usa['Time'].dt.year<2021)]\n",
    "bush = euro_usa.copy()[(euro_usa['Time'].dt.year>=2001)&(euro_usa['Time'].dt.year<2009)]\n",
    "obama = euro_usa.copy()[(euro_usa['Time'].dt.year>=2009)&(euro_usa['Time'].dt.year<2017)]\n",
    "trump = euro_usa.copy()[(euro_usa['Time'].dt.year>=2017)&(euro_usa['Time'].dt.year<2021)]\n"
   ]
  },
  {
   "cell_type": "code",
   "execution_count": 85,
   "id": "4ed7c65a",
   "metadata": {},
   "outputs": [
    {
     "name": "stdout",
     "output_type": "stream",
     "text": [
      "10958.85\n",
      "18992.15\n"
     ]
    },
    {
     "data": {
      "text/plain": [
       "Text(10600, 2.05, 'EURO-USD rate average 1.22 under the last three US presidents')"
      ]
     },
     "execution_count": 85,
     "metadata": {},
     "output_type": "execute_result"
    },
    {
     "data": {
      "image/png": "[encoded data removed]",
      "text/plain": [
       "<Figure size 864x504 with 4 Axes>"
      ]
     },
     "metadata": {},
     "output_type": "display_data"
    }
   ],
   "source": [
    "style.use('fivethirtyeight')\n",
    "plt.figure(figsize=(12,7))\n",
    "ax1 = plt.subplot(2,3,1)\n",
    "ax2 = plt.subplot(2,3,2)\n",
    "ax3 = plt.subplot(2,3,3)\n",
    "ax4 = plt.subplot(2,1,2)\n",
    "axes = [ax1,ax2,ax3,ax4]\n",
    "\n",
    "for ax in axes:\n",
    "    ax.set_ylim(0.8,1.7)\n",
    "    ax.set_yticks([1.0,1.2,1.4,1.6])\n",
    "    ax.set_yticklabels(['1.0','1.2','1.4','1.6'],alpha=0.3)\n",
    "    \n",
    "ax1.plot(bush['Time'],bush['rolling_mean'],color='purple')\n",
    "ax1.set_xticklabels(['','2001','','2003','','2005','','2007','','2009'], alpha=0.3)\n",
    "\n",
    "ax2.plot(obama['Time'],obama['rolling_mean'],color='orange')\n",
    "ax2.set_xticklabels(['','2009','','2011','','2013','','2015','','2017'], alpha=0.3)\n",
    "\n",
    "ax3.plot(trump['Time'],trump['rolling_mean'],color='blue')\n",
    "ax3.set_xticklabels(['','2017','','2018','','2019','','2020','','2021'], alpha=0.3)\n",
    " \n",
    "ax4.plot(bush['Time'],bush['rolling_mean'],color ='purple')\n",
    "ax4.plot(obama['Time'],obama['rolling_mean'],color ='orange')\n",
    "ax4.plot(trump['Time'],trump['rolling_mean'],color ='blue')\n",
    "\n",
    "xmin,xmax = plt.xlim()\n",
    "print(xmin)\n",
    "print(xmax)\n",
    "\n",
    "ax1.text(12400,1.87,'BUSH',fontsize=18, weight = 'bold',color='purple')\n",
    "ax1.text(12160,1.77,'(2001-2009)',fontsize=14,alpha=0.3)\n",
    "\n",
    "ax2.text(15200,1.87,'OBAMA',fontsize=18, weight = 'bold',color='orange')\n",
    "ax2.text(15120,1.77,'(2009-2017)',fontsize=14,alpha=0.3)\n",
    "\n",
    "ax3.text(17700,1.87,'TRUMP',fontsize=18, weight = 'bold',color='blue')\n",
    "ax3.text(17660,1.77,'(2009-2017)',fontsize=14,alpha=0.3)\n",
    "\n",
    "ax4.text(10600,0.7,'@DATAQUEST'+' '*103 + 'Source: European Central Bank',color ='#f0f0f0',backgroundcolor='#4d4d4d',size = 14)\n",
    "ax1.text(10600,2.05,'EURO-USD rate average 1.22 under the last three US presidents',fontsize=14,alpha =0.5)"
   ]
  },
  {
   "cell_type": "code",
   "execution_count": null,
   "id": "71d840bb",
   "metadata": {},
   "outputs": [],
   "source": []
  }
 ],
 "metadata": {
  "kernelspec": {
   "display_name": "Python 3",
   "language": "python",
   "name": "python3"
  },
  "language_info": {
   "codemirror_mode": {
    "name": "ipython",
    "version": 3
   },
   "file_extension": ".py",
   "mimetype": "text/x-python",
   "name": "python",
   "nbconvert_exporter": "python",
   "pygments_lexer": "ipython3",
   "version": "3.8.8"
  }
 },
 "nbformat": 4,
 "nbformat_minor": 5
}
